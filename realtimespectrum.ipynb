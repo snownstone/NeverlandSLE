{
 "cells": [
  {
   "cell_type": "markdown",
   "metadata": {},
   "source": [
    "# **P7：绘制实时音频频谱（Real-time Audio Signal Frequency Spectrum）**"
   ]
  },
  {
   "cell_type": "code",
   "execution_count": 3,
   "metadata": {},
   "outputs": [],
   "source": [
    "import pyaudio\n",
    "import numpy as np\n",
    "import matplotlib.pyplot as plt\n",
    "import matplotlib.animation as animation\n",
    "import struct"
   ]
  },
  {
   "cell_type": "code",
   "execution_count": null,
   "metadata": {},
   "outputs": [],
   "source": [
    "buff_size = 1024                     # buffer 大小\n",
    "wanted_num_of_bins = 12              # 终端内显示 frequency bins 数量\n",
    "fs = 44100\n",
    "pa = pyaudio.PyAudio()\n",
    "stream = pa.open(format=pyaudio.paInt16, channels=1, rate=fs, input=True, frames_per_buffer=int(buff_size))\n",
    "\n",
    "\n",
    "while 1:\n",
    "    # 得到 block并将数据转为short 整数列表\n",
    "    block = stream.read(int(buff_size))\n",
    "    data = np.fromstring(block, dtype=np.int16)\n",
    "    \n",
    "    # 标准化并转为 numpy 数组\n",
    "    x = np.array(data)/(2**15)\n",
    "    seg_len = len(x)\n",
    "    \"\"\"\n",
    "    \n",
    "    energy = np.mean(x**2)\n",
    "    max_energy = 0.02 \n",
    "    max_width_from_energy = int((energy/max_energy)*int(columns)) +1\n",
    "    if max_width_from_energy > int(columns) - 10:\n",
    "        max_width_from_energyth = int(columns) -10\n",
    "    \"\"\"\n",
    "    \n",
    "    X = np.abs(np.fft.fft(x))[0:int(seg_len/2)]\n",
    "    freqs = np.arange(0,1+1.0/len(X), 1.0/len(X)) * fs/2\n",
    "    \n",
    "    wanted_step = (int(freqs.shape[0] / wanted_num_of_bins))\n",
    "    freq2 = freqs[0::wanted_step].astype('int')\n",
    "    X2 = np.mean(X.reshape(-1, wanted_step), axis=1)\n",
    "    \n",
    "    fig=tpl.figure()\n",
    "    fig.barh(X2, labels=[str(int(f)) + \"Hz\" for f in freq2[0:-1]],\n",
    "            show_vals=False, max_width=max_width_from_energy)\n",
    "    fig.show()\n",
    "    print(\"\\n\"*(int(rows) - freq2.shape[0] -1 ))"
   ]
  }
 ],
 "metadata": {
  "kernelspec": {
   "display_name": "Python(pyenv)",
   "language": "python",
   "name": "beatstracking"
  },
  "language_info": {
   "codemirror_mode": {
    "name": "ipython",
    "version": 3
   },
   "file_extension": ".py",
   "mimetype": "text/x-python",
   "name": "python",
   "nbconvert_exporter": "python",
   "pygments_lexer": "ipython3",
   "version": "3.8.7"
  }
 },
 "nbformat": 4,
 "nbformat_minor": 4
}
