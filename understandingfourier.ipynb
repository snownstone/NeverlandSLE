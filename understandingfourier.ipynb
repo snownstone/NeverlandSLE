{
 "cells": [
  {
   "cell_type": "markdown",
   "metadata": {},
   "source": [
    "# **理解傅立叶转换**"
   ]
  },
  {
   "cell_type": "markdown",
   "metadata": {},
   "source": [
    "**傅立叶转换**，这是一个我兜兜转转翻来覆去看了各种讲解结合代码琢磨很长时间后才终于比较明白的概念，一个阶段性的突破就是结合 python 与 scratch 实时绘制音频频谱，具体见 [AA_realtime_audiofft](AA_realtime_audiofft.ipynb)。Demo 视频如下：\n",
    "\n",
    "</br>"
   ]
  },
  {
   "cell_type": "code",
   "execution_count": 7,
   "metadata": {},
   "outputs": [
    {
     "data": {
      "text/html": [
       "<video src=\"video/livespectrum.mp4\" controls  width=\"800\"  height=\"600\">\n",
       "      Your browser does not support the <code>video</code> element.\n",
       "    </video>"
      ],
      "text/plain": [
       "<IPython.core.display.Video object>"
      ]
     },
     "execution_count": 7,
     "metadata": {},
     "output_type": "execute_result"
    }
   ],
   "source": [
    "import IPython.display as ipd\n",
    "ipd.Video('video/livespectrum.mp4',width=800,height=600)"
   ]
  },
  {
   "cell_type": "markdown",
   "metadata": {},
   "source": [
    "<br>"
   ]
  },
  {
   "cell_type": "markdown",
   "metadata": {},
   "source": [
    "再继续向下实现实时分析音乐节拍的目标之前，想要在此先梳理一下当前对傅立叶转换、特别是离散傅立叶转换（DFT，discrete fourier transform）以及快速傅立叶转换（FFT，fast fourier transform）的认识，这也是后续工作的重要基础。出于尽可能凭自己的记忆与理解做梳理、以及重点关注傅立叶转换在代码中的应用的缘故，所以不会涉及复杂的数学公式。\n",
    "\n",
    "傅立叶转换（fourier transform）是将信号从时域（time domain）转化到频域（frequency domain）。这是一句经重度压缩与折叠非常凝练高密度的表达，如果将其铺展开，就会在各个方向上源源不断地引出新的概念和问题，至少对于我是如此。\n",
    "\n",
    "音源的振动挤压周围空气，将能量以波的形式向外传播，如果传递到人耳内部进一步挤压鼓膜，最终就会被感知为声音。整个过程，前半段属于物理范畴，关于振动与波，后半程则属于生理心理范畴，关于我们对振动的感知。先说前半段。中学物理都学习过，振动与波的一个重要特性就是周期性，例如向右偏离原始位置到最大程度后（波峰，振幅最大值），又返回向左、经过原始位置继续向左同样抵达最大程度后（波谷，也是振幅最大值，只是方向相反），再次返回向右、经原始位置后继续向右直到最大程度，如此循环往复。振动的幅度，即振幅，也即偏离原始位置的最大程度，直接反映振动的能量（振幅的平方与能量呈正相关），当我们谈论声音的响度或音量时（这里就进入了后半程生理心理领域），关系到的物理概念就是振幅。此外，周期与频率的概念也很重要。从波峰到下一次波峰，或从波谷到下一次波谷，或从振动的任一位置到下一次相同方向再次抵达同一位置，所用的时间即为一个周期；周期的倒数即为振动的频率，也就是 1 秒钟可以振动多少次。数学中的正弦或余弦函数也具有周期性的特点，也的确被用来描述振动与波。声音除了响度大小的区别外，非常明显的音色也各种各样，有的低沉，有的尖锐，这主要关系到振动的频率。我们人耳能够听到的频率范围是有限的，大致在 20Hz——20000Hz，振动过慢或过快，我们都将无法感知到。\n",
    "\n",
    "到此，只是开了一个小头，因为傅立叶转换根本还没出场，但我发现理解过程中的主要困难都已露面。首先是振动与波在多数情况下无形不可见。第二个是频率，时间的流逝是我们非常熟悉好理解的概念，甚至早在上学前就懂，但频率是后来才接触、学习到的概念，对于绝大多数人，相比时域，频域就是一个非常不顺手的概念工具。类似地，正弦余弦函数又是一个难点，因为我们最熟悉的总是线性关系与线性函数。至少对于我个人来说，这些因素都使得对傅立叶转换的理解困难重重。读到一篇讲解傅立叶转换的作者如此描述他初次接触傅立叶转换时的心情，“傅立叶是在和外星人说话，即使给我一生的时间和全世界所有的白纸，我也想不出来。”这是多少人的心声，但只要想，还是可以理解并使用的。\n",
    "\n"
   ]
  },
  {
   "cell_type": "code",
   "execution_count": null,
   "metadata": {},
   "outputs": [],
   "source": []
  }
 ],
 "metadata": {
  "kernelspec": {
   "display_name": "Python(pyenv)",
   "language": "python",
   "name": "beatstracking"
  },
  "language_info": {
   "codemirror_mode": {
    "name": "ipython",
    "version": 3
   },
   "file_extension": ".py",
   "mimetype": "text/x-python",
   "name": "python",
   "nbconvert_exporter": "python",
   "pygments_lexer": "ipython3",
   "version": "3.8.7"
  }
 },
 "nbformat": 4,
 "nbformat_minor": 4
}
