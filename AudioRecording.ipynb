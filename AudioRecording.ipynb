{
 "cells": [
  {
   "cell_type": "markdown",
   "metadata": {},
   "source": [
    "# **P3：使用 Python 录音**\n",
    "\n",
    "可以将树莓派外接一个 USB 麦克风，用来录音\n",
    "\n",
    "五星参考教程：[Recording Audio on the Raspberry Pi with Python and a USB Microphone](https://makersportal.com/blog/2018/8/23/recording-audio-on-the-raspberry-pi-with-python-and-a-usb-microphone) (讲解非常清晰，感谢作者[Joshua Hrisko](https://makersportal.com/blog?author=59b036fc6073554c1cfffef7)）\n",
    "\n",
    "基于 **pyaudio** 库，主页[在此](https://people.csail.mit.edu/hubert/pyaudio/)\n",
    "\n",
    "\n",
    "</br>"
   ]
  },
  {
   "cell_type": "code",
   "execution_count": 2,
   "metadata": {},
   "outputs": [
    {
     "name": "stdout",
     "output_type": "stream",
     "text": [
      "开始录音\n",
      "停止录音\n"
     ]
    }
   ],
   "source": [
    "import pyaudio  #https://people.csail.mit.edu/hubert/pyaudio/\n",
    "import wave     # python 自带包，用于读取或写入 wav 格式音频文件\n",
    "\n",
    "# linux 要先在 pulseaudio 中将录音的输入设备设置为内置话筒（可以安装使用 pavucontrol），否则有可能生成文件为空\n",
    "\n",
    "form_1 = pyaudio.paInt16            # 16-bit 采样分辨率\n",
    "chans = 1                           # 单通道\n",
    "samp_rate = 44100                   # 采样率\n",
    "chunk = 4096                        # 2^12 一个 buffer 中存储多少个 sample\n",
    "#dev_index = 5                       # 选用的音频输入设备（内置麦克风，或是外接的 USB 麦克风）\n",
    "record_secs = 3                     # 录音时长（秒）\n",
    "wav_output_filename = 'test0.wav'  # 录音文件名\n",
    "\n",
    "audio = pyaudio.PyAudio()           # pyaudio 生成一个实例\n",
    "\n",
    "# 创建 pyaudio 流\n",
    "stream = audio.open(format=form_1, rate = samp_rate, channels = chans,\\\n",
    "                   input = True,\\\n",
    "                   frames_per_buffer = chunk)\n",
    "print(\"开始录音\")\n",
    "\n",
    "frames = []\n",
    "\n",
    "# 重复将 3s 内流经 buffer 的数字音频数据拼接存入 frames 列表中\n",
    "for ii in range(0,int((samp_rate/chunk)*record_secs)):\n",
    "    data = stream.read(chunk)\n",
    "    frames.append(data)\n",
    "    \n",
    "print(\"停止录音\")\n",
    "\n",
    "# 停止流，关闭并终止 pyaudio 实例\n",
    "stream.close()\n",
    "audio.terminate()\n",
    "\n",
    "# 将 frames 列表中的数据以 wav 文件格式保存在本地\n",
    "wavefile = wave.open(wav_output_filename, 'wb')\n",
    "wavefile.setnchannels(chans)\n",
    "wavefile.setsampwidth(audio.get_sample_size(form_1))\n",
    "wavefile.setframerate(samp_rate)\n",
    "wavefile.writeframes(b''.join(frames))\n",
    "wavefile.close()"
   ]
  },
  {
   "cell_type": "code",
   "execution_count": 3,
   "metadata": {},
   "outputs": [
    {
     "name": "stdout",
     "output_type": "stream",
     "text": [
      "开始录音\n",
      "0000 09866 #######\n"
     ]
    },
    {
     "name": "stderr",
     "output_type": "stream",
     "text": [
      "<ipython-input-3-b3a83823d1bb>:28: DeprecationWarning: The binary mode of fromstring is deprecated, as it behaves surprisingly on unicode inputs. Use frombuffer instead\n",
      "  data = np.fromstring(stream.read(chunk),dtype=np.int16)\n"
     ]
    },
    {
     "name": "stdout",
     "output_type": "stream",
     "text": [
      "0001 05695 ####\n",
      "0002 08244 ######\n",
      "停止录音\n"
     ]
    }
   ],
   "source": [
    "import pyaudio  #https://people.csail.mit.edu/hubert/pyaudio/\n",
    "import wave     # python 自带包，用于读取或写入 wav 格式音频文件\n",
    "import numpy as np\n",
    "\n",
    "# linux 要先在 pulseaudio 中将录音的输入设备设置为内置话筒（可以安装使用 pavucontrol），否则有可能生成文件为空\n",
    "\n",
    "form_1 = pyaudio.paInt16            # 16-bit 采样分辨率\n",
    "chans = 1                           # 单通道\n",
    "samp_rate = 44100                   # 采样率\n",
    "chunk = 4096                        # 2^12 一个 buffer 中存储多少个 sample\n",
    "#dev_index = 5                       # 选用的音频输入设备（内置麦克风，或是外接的 USB 麦克风）\n",
    "record_secs = 0.3                     # 录音时长（秒）\n",
    "wav_output_filename = 'test0.wav'  # 录音文件名\n",
    "\n",
    "audio = pyaudio.PyAudio()           # pyaudio 生成一个实例\n",
    "\n",
    "# 创建 pyaudio 流\n",
    "stream = audio.open(format=form_1, rate = samp_rate, channels = chans,\\\n",
    "                   input = True,\\\n",
    "                   frames_per_buffer = chunk)\n",
    "print(\"开始录音\")\n",
    "\n",
    "frames = []\n",
    "peaks = []\n",
    "\n",
    "# 重复将 3s 内流经 buffer 的数字音频数据拼接存入 frames 列表中\n",
    "for ii in range(0,int((samp_rate/chunk)*record_secs)):\n",
    "    data = np.fromstring(stream.read(chunk),dtype=np.int16)\n",
    "    peak = np.average(np.abs(data))*2\n",
    "    bars = \"#\"*int(50*peak/2**16)\n",
    "    frames.append(data)\n",
    "    peaks.append(peak)\n",
    "    print(\"%04d %05d %s\"%(ii,peak, bars))\n",
    "print(\"停止录音\")\n",
    "\n",
    "# 停止流，关闭并终止 pyaudio 实例\n",
    "stream.close()\n",
    "audio.terminate()\n",
    "\n"
   ]
  },
  {
   "cell_type": "code",
   "execution_count": 19,
   "metadata": {},
   "outputs": [],
   "source": [
    "\n",
    "x=frames[2]/2**15"
   ]
  },
  {
   "cell_type": "code",
   "execution_count": 23,
   "metadata": {},
   "outputs": [],
   "source": [
    "import scipy.fftpack as scp"
   ]
  },
  {
   "cell_type": "code",
   "execution_count": 32,
   "metadata": {},
   "outputs": [],
   "source": [
    "y = np.abs(scp.fft(x))[0:2048]"
   ]
  },
  {
   "cell_type": "code",
   "execution_count": 36,
   "metadata": {},
   "outputs": [],
   "source": [
    "freq = np.arange(0, 1+1.0/2048, 1.0/2048)*44100/2"
   ]
  },
  {
   "cell_type": "code",
   "execution_count": 39,
   "metadata": {},
   "outputs": [
    {
     "data": {
      "text/plain": [
       "2049"
      ]
     },
     "execution_count": 39,
     "metadata": {},
     "output_type": "execute_result"
    }
   ],
   "source": [
    "freq.shape[0]"
   ]
  },
  {
   "cell_type": "code",
   "execution_count": 21,
   "metadata": {},
   "outputs": [
    {
     "data": {
      "text/plain": [
       "92"
      ]
     },
     "execution_count": 21,
     "metadata": {},
     "output_type": "execute_result"
    }
   ],
   "source": [
    "energy = np.mean(x**2)\n",
    "int(energy/0.02*80)+1"
   ]
  },
  {
   "cell_type": "markdown",
   "metadata": {},
   "source": [
    "</br>\n",
    "\n",
    "### **附**|\n",
    "\n",
    "关于 **chunk/buffer** ：为了快速计算与临时存储音频流数据，以一定单位片段式截取数据流用来判断或分析，进而存储或丢弃或应用算法做数据分析等，[参看这里的回答](https://dsp.stackexchange.com/questions/13728/what-are-chunks-when-recording-a-voice-signal)\n",
    "\n"
   ]
  },
  {
   "cell_type": "code",
   "execution_count": null,
   "metadata": {},
   "outputs": [],
   "source": [
    "# 使用 pyaudio 查看系统内的音频设备\n",
    "p = pyaudio.PyAudio()\n",
    "for ii in range(p.get_device_count()):\n",
    "    print(p.get_device_info_by_index(ii).get('name'))"
   ]
  }
 ],
 "metadata": {
  "kernelspec": {
   "display_name": "Python(pyenv)",
   "language": "python",
   "name": "beatstracking"
  },
  "language_info": {
   "codemirror_mode": {
    "name": "ipython",
    "version": 3
   },
   "file_extension": ".py",
   "mimetype": "text/x-python",
   "name": "python",
   "nbconvert_exporter": "python",
   "pygments_lexer": "ipython3",
   "version": "3.8.7"
  }
 },
 "nbformat": 4,
 "nbformat_minor": 4
}
