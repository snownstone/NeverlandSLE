{
 "cells": [
  {
   "cell_type": "markdown",
   "metadata": {},
   "source": [
    "# **附 2：参考资料**"
   ]
  },
  {
   "cell_type": "markdown",
   "metadata": {},
   "source": [
    "## **关于声音**\n",
    "\n",
    "+ 5 星 [Sound Intensity and Sound Level](https://courses.lumenlearning.com/physics/chapter/17-3-sound-intensity-and-sound-level/)"
   ]
  },
  {
   "cell_type": "markdown",
   "metadata": {},
   "source": [
    "## **音频分析参考教程**\n",
    "\n",
    "+ [Audio Handling Basics: Process Audio Files In Command-Line or Python](https://hackernoon.com/audio-handling-basics-how-to-process-audio-files-using-python-cli-jo283u3y)\n",
    "\n",
    "+ [Getting started with audio data analysis using deep learning](https://www.analyticsvidhya.com/blog/2017/08/audio-voice-processing-deep-learning/)\n",
    "\n",
    "    开头对数据的分析很好；后面机器学习的例子不适用。\n",
    "\n",
    "+ [Introduction to music information retrieval with LibROSA and Beat Saber](https://towardsdatascience.com/introduction-to-music-information-retrieval-with-librosa-and-beat-saber-48daedb8653e)\n",
    "\n",
    "    这篇特别好，内容与形式都非常清晰；推荐的资源也很棒\n",
    "    \n",
    "+ [Music Feature Extraction in Python](https://towardsdatascience.com/extract-features-of-music-75a3f9bc265d)\n",
    "\n",
    "+ [Classification of Music into different Genres using Keras](https://medium.com/@sdoshi579/classification-of-music-into-different-genres-using-keras-82ab5339efe0)\n"
   ]
  },
  {
   "cell_type": "markdown",
   "metadata": {},
   "source": [
    "## **傅立叶变换相关**\n",
    "\n",
    "+ [Understanding FFTs and Windowing](https://download.ni.com/evaluation/pxi/Understanding%20FFTs%20and%20Windowing.pdf)"
   ]
  },
  {
   "cell_type": "markdown",
   "metadata": {},
   "source": [
    "## **Binder 相关**\n",
    "\n",
    "+ [Embed Interactive Jupyter Notebooks in Static Websites for Free](https://elc.github.io/posts/embed-interactive-notebooks/) (+ nbinteract)\n",
    "\n",
    "+ [NbinteractDoc](https://www.nbinteract.com/index.html) \n",
    "\n",
    "+ [NbinteractPDF](https://www2.eecs.berkeley.edu/Pubs/TechRpts/2018/EECS-2018-57.pdf)"
   ]
  },
  {
   "cell_type": "markdown",
   "metadata": {},
   "source": [
    "   \n",
    "      \n",
    "         \n",
    "            \n",
    "            "
   ]
  },
  {
   "cell_type": "markdown",
   "metadata": {},
   "source": [
    "## **Jupyter 相关**\n",
    "\n",
    "+ [IPython.display 官方指南](https://ipython.org/ipython-doc/dev/api/generated/IPython.display.html#)\n",
    "\n",
    "    在 notebook 中使用这个包来呈现或播放图片、视频、音频等，真正多媒体笔记本。\n",
    "\n",
    "+ [NbconvertDoc](https://nbconvert.readthedocs.io/en/latest/index.html) 将 notebook 导出为 HTML\n",
    "\n",
    "+ [IBM jupyter markdown cheatsheet](https://www.ibm.com/support/knowledgecenter/SSHGWL_1.2.3/analyze-data/markd-jupyter.html)"
   ]
  },
  {
   "cell_type": "markdown",
   "metadata": {},
   "source": [
    "    \n",
    "       \n",
    "          "
   ]
  },
  {
   "cell_type": "markdown",
   "metadata": {},
   "source": [
    "## **Python 相关**    \n",
    "\n",
    "+ [Managing Multiple Python Versions With pyenv](https://realpython.com/intro-to-pyenv/#working-with-multiple-environments)\n",
    "\n",
    "+ [https://realpython.com/python-concurrency/](https://realpython.com/python-concurrency/)"
   ]
  },
  {
   "cell_type": "markdown",
   "metadata": {},
   "source": [
    "## **Ubuntu Audio 设置相关**\n",
    "\n",
    "+ [Setting Default Audio Device in Ubuntu 18.04](https://rastating.github.io/setting-default-audio-device-in-ubuntu-18-04/)"
   ]
  },
  {
   "cell_type": "code",
   "execution_count": null,
   "metadata": {},
   "outputs": [],
   "source": []
  }
 ],
 "metadata": {
  "kernelspec": {
   "display_name": "Python(pyenv)",
   "language": "python",
   "name": "beatstracking"
  },
  "language_info": {
   "codemirror_mode": {
    "name": "ipython",
    "version": 3
   },
   "file_extension": ".py",
   "mimetype": "text/x-python",
   "name": "python",
   "nbconvert_exporter": "python",
   "pygments_lexer": "ipython3",
   "version": "3.8.7"
  }
 },
 "nbformat": 4,
 "nbformat_minor": 4
}
