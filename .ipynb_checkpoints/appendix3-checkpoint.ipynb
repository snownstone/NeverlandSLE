{
 "cells": [
  {
   "cell_type": "markdown",
   "metadata": {},
   "source": [
    "# **工作备忘**"
   ]
  },
  {
   "cell_type": "markdown",
   "metadata": {},
   "source": [
    "### 2021-03-05\n",
    "\n",
    "**今日问题：**\n",
    "\n",
    "**将 fft 之后的 y 转为 dB 并对应修改画图方式；麦克风需要检测与校准（未解决）**\n",
    "\n",
    "librosa load 音频文件时，默认 dtype='float32'，但是输出的 x 已经做了标准化，即除以2的31次方，所以是 float32 还是 float64 或 float16，并不会影响后续数据分析\n",
    "\n",
    "\n",
    "### 2021-03-08\n",
    "\n",
    "**折腾几天之后决定还是暂时搁置对 fft 后的 y 做 logscale 转化（dB）**\n",
    "\n",
    "主要原因是：将声音的振幅转为响度需要一个参考值，即一个最大振幅 y，然后根据公式 20\\*log10（y/ymax)可以求得相对分贝值，即最大响度为 0dB，响度越小，负值越大。但是现在我没有好的办法找到一个绝对的最大响度值，即使通过试验手动找到一个最大值（如 900），为了方便可视化，得到的结果还需进一步转换，所以还是干脆先搁置，直接用 fft 后的振幅值即可，只要记得还可以做 log 转化就行。另外需要注意的是，有些示例代码中做分贝转换时，直接用的 y，而非 y/ymax 这样的比值，除非他们的 y 是标准化之后的，即 ymax=1，否则就是有问题的。另外，**麦克风的敏感性和校准** 也是暂时先不考虑但要记得的问题。\n",
    "\n",
    "\n",
    "参考:  \n",
    "\n",
    "[Sound Intensity and Sound Level](https://courses.lumenlearning.com/physics/chapter/17-3-sound-intensity-and-sound-level/)\n",
    "\n",
    "[Decibels (dB) and Amplitude](https://blog.demofox.org/2015/04/14/decibels-db-and-amplitude/)\n",
    "\n",
    "[Recording Stereo Audio on a Raspberry Pi](https://makersportal.com/blog/recording-stereo-audio-on-a-raspberry-pi)\n",
    "\n",
    "[Audio Processing with The QuadMic 4-Microphone Array on the Raspberry Pi](https://makersportal.com/blog/audio-processing-with-the-quadmic-4-microphone-array-on-the-raspberry-pi)"
   ]
  },
  {
   "cell_type": "code",
   "execution_count": null,
   "metadata": {},
   "outputs": [],
   "source": []
  }
 ],
 "metadata": {
  "kernelspec": {
   "display_name": "Python(pyenv)",
   "language": "python",
   "name": "beatstracking"
  },
  "language_info": {
   "codemirror_mode": {
    "name": "ipython",
    "version": 3
   },
   "file_extension": ".py",
   "mimetype": "text/x-python",
   "name": "python",
   "nbconvert_exporter": "python",
   "pygments_lexer": "ipython3",
   "version": "3.8.7"
  }
 },
 "nbformat": 4,
 "nbformat_minor": 4
}
