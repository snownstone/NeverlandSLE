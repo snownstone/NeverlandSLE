{
 "cells": [
  {
   "cell_type": "markdown",
   "metadata": {},
   "source": [
    "# **P4：监测环境中的声音响度-未完成**"
   ]
  },
  {
   "cell_type": "code",
   "execution_count": null,
   "metadata": {},
   "outputs": [],
   "source": [
    "import pyaudio  #https://people.csail.mit.edu/hubert/pyaudio/\n",
    "import audioop\n",
    "import time\n",
    "\n",
    "# linux 中要注意音频输入设备（麦克风）的选择设置\n",
    "\n",
    "form_1 = pyaudio.paInt16            # 16-bit 采样分辨率\n",
    "chans = 1                           # 单通道\n",
    "samp_rate = 44100                   # 采样率\n",
    "chunk = 4096                        # 2^12 一个 buffer 中存储多少个 sample\n",
    "dev_index = 5                       # 选用的音频输入设备（内置麦克风，或是外接的 USB 麦克风）\n",
    "\n",
    "audio = pyaudio.PyAudio()           # pyaudio 生成一个实例\n",
    "\n",
    "# 创建 pyaudio 流\n",
    "stream = audio.open(format=form_1, rate = samp_rate, channels = chans,\\\n",
    "                  input_device_index = dev_index, input = True,\\\n",
    "                   frames_per_buffer = chunk)\n",
    "\n",
    "data = stream.read(chunk)\n",
    "rms = audioop.rms(data,2)\n",
    "db = 20*log10(rms)\n",
    "    \n",
    "def alert():\n",
    "    if db >=60:\n",
    "        print(\"too loud\")\n",
    "        time.sleep(0.5)\n",
    "\n"
   ]
  }
 ],
 "metadata": {
  "kernelspec": {
   "display_name": "Python(pyenv)",
   "language": "python",
   "name": "beatstracking"
  },
  "language_info": {
   "codemirror_mode": {
    "name": "ipython",
    "version": 3
   },
   "file_extension": ".py",
   "mimetype": "text/x-python",
   "name": "python",
   "nbconvert_exporter": "python",
   "pygments_lexer": "ipython3",
   "version": "3.8.7"
  }
 },
 "nbformat": 4,
 "nbformat_minor": 4
}
