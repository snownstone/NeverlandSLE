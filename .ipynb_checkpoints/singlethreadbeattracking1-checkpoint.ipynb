{
 "cells": [
  {
   "cell_type": "code",
   "execution_count": 2,
   "metadata": {},
   "outputs": [],
   "source": [
    "import pyaudio\n",
    "import numpy as np\n",
    "import time"
   ]
  },
  {
   "cell_type": "code",
   "execution_count": 9,
   "metadata": {},
   "outputs": [],
   "source": [
    "\"\"\"\n",
    "基本参数\n",
    "\"\"\"\n",
    "sr = 44100\n",
    "chunk = 1024\n",
    "num_channel = 1\n",
    "record_second = 1\n",
    "chunks_per_buffer = int(sr/chunk)\n",
    "\n",
    "\n",
    "\n",
    "\"\"\"\n",
    "关心的频率范围\n",
    "\"\"\"\n",
    "bandsize = sr/chunk\n",
    "\n",
    "bass_indexL = int(np.floor(60/bandsize))\n",
    "bass_indexR = int(np.ceil(130/bandsize))\n",
    "\n",
    "midrange_indexL = int(np.floor(301/bandsize))\n",
    "midrange_indexR = int(np.ceil(750/bandsize))\n",
    "\n",
    "\"\"\"\n",
    "实时读取 stream 数据并分析\n",
    "\"\"\"\n",
    "\n",
    "p = pyaudio.PyAudio() \n",
    "stream = p.open(format=pyaudio.paInt16, channels=1, rate=sr, input=True,\n",
    "                frames_per_buffer=chunk)"
   ]
  },
  {
   "cell_type": "code",
   "execution_count": 15,
   "metadata": {},
   "outputs": [
    {
     "ename": "KeyboardInterrupt",
     "evalue": "",
     "output_type": "error",
     "traceback": [
      "\u001b[0;31m---------------------------------------------------------------------------\u001b[0m",
      "\u001b[0;31mKeyboardInterrupt\u001b[0m                         Traceback (most recent call last)",
      "\u001b[0;32m<ipython-input-15-3e4d0b36a4d2>\u001b[0m in \u001b[0;36m<module>\u001b[0;34m\u001b[0m\n\u001b[1;32m     45\u001b[0m \u001b[0mprint\u001b[0m\u001b[0;34m(\u001b[0m\u001b[0;34m\"go!\"\u001b[0m\u001b[0;34m)\u001b[0m\u001b[0;34m\u001b[0m\u001b[0;34m\u001b[0m\u001b[0m\n\u001b[1;32m     46\u001b[0m \u001b[0;32mwhile\u001b[0m \u001b[0;32mTrue\u001b[0m\u001b[0;34m:\u001b[0m\u001b[0;34m\u001b[0m\u001b[0;34m\u001b[0m\u001b[0m\n\u001b[0;32m---> 47\u001b[0;31m     \u001b[0mblock\u001b[0m \u001b[0;34m=\u001b[0m \u001b[0mstream\u001b[0m\u001b[0;34m.\u001b[0m\u001b[0mread\u001b[0m\u001b[0;34m(\u001b[0m\u001b[0mint\u001b[0m\u001b[0;34m(\u001b[0m\u001b[0mchunk\u001b[0m\u001b[0;34m)\u001b[0m\u001b[0;34m)\u001b[0m\u001b[0;34m\u001b[0m\u001b[0;34m\u001b[0m\u001b[0m\n\u001b[0m\u001b[1;32m     48\u001b[0m     \u001b[0mdata\u001b[0m \u001b[0;34m=\u001b[0m \u001b[0mnp\u001b[0m\u001b[0;34m.\u001b[0m\u001b[0mfromstring\u001b[0m\u001b[0;34m(\u001b[0m\u001b[0mblock\u001b[0m\u001b[0;34m,\u001b[0m \u001b[0mdtype\u001b[0m\u001b[0;34m=\u001b[0m\u001b[0mnp\u001b[0m\u001b[0;34m.\u001b[0m\u001b[0mint16\u001b[0m\u001b[0;34m)\u001b[0m\u001b[0;34m\u001b[0m\u001b[0;34m\u001b[0m\u001b[0m\n\u001b[1;32m     49\u001b[0m     \u001b[0mdata_norm\u001b[0m \u001b[0;34m=\u001b[0m \u001b[0mdata\u001b[0m\u001b[0;34m/\u001b[0m\u001b[0;34m(\u001b[0m\u001b[0;36m2\u001b[0m\u001b[0;34m**\u001b[0m\u001b[0;36m15\u001b[0m\u001b[0;34m)\u001b[0m\u001b[0;34m\u001b[0m\u001b[0;34m\u001b[0m\u001b[0m\n",
      "\u001b[0;32m~/.pyenv/versions/BeatsTracking/lib/python3.8/site-packages/pyaudio.py\u001b[0m in \u001b[0;36mread\u001b[0;34m(self, num_frames, exception_on_overflow)\u001b[0m\n\u001b[1;32m    606\u001b[0m                           paCanNotReadFromAnOutputOnlyStream)\n\u001b[1;32m    607\u001b[0m \u001b[0;34m\u001b[0m\u001b[0m\n\u001b[0;32m--> 608\u001b[0;31m         \u001b[0;32mreturn\u001b[0m \u001b[0mpa\u001b[0m\u001b[0;34m.\u001b[0m\u001b[0mread_stream\u001b[0m\u001b[0;34m(\u001b[0m\u001b[0mself\u001b[0m\u001b[0;34m.\u001b[0m\u001b[0m_stream\u001b[0m\u001b[0;34m,\u001b[0m \u001b[0mnum_frames\u001b[0m\u001b[0;34m,\u001b[0m \u001b[0mexception_on_overflow\u001b[0m\u001b[0;34m)\u001b[0m\u001b[0;34m\u001b[0m\u001b[0;34m\u001b[0m\u001b[0m\n\u001b[0m\u001b[1;32m    609\u001b[0m \u001b[0;34m\u001b[0m\u001b[0m\n\u001b[1;32m    610\u001b[0m     \u001b[0;32mdef\u001b[0m \u001b[0mget_read_available\u001b[0m\u001b[0;34m(\u001b[0m\u001b[0mself\u001b[0m\u001b[0;34m)\u001b[0m\u001b[0;34m:\u001b[0m\u001b[0;34m\u001b[0m\u001b[0;34m\u001b[0m\u001b[0m\n",
      "\u001b[0;31mKeyboardInterrupt\u001b[0m: "
     ]
    }
   ],
   "source": [
    "\"\"\"\n",
    "以 1 秒钟为单位 track beat\n",
    "sr = 44100\n",
    "chunk = 1024\n",
    "1 秒钟约 43 chunk\n",
    "buffer 里需要存 43 个振幅值\n",
    "两个频率范围需要两个 buffer 存储数据\n",
    "因是实时分析，每读取分析完一个 chunk 并与 buffer 均值比较判断完 beat 后，要提换掉 buffer 内最老的那个 chunk 值\n",
    "\"\"\"\n",
    "buffer_bass = []\n",
    "buffer_midrange = []  \n",
    "\n",
    "for i in np.arange(chunks_per_buffer):\n",
    "    block = stream.read(int(chunk))\n",
    "    data = np.fromstring(block, dtype=np.int16)\n",
    "    data_norm = data/(2**15)\n",
    "    y = np.abs(np.fft.fft(data_norm))[0:int(chunk/2)]/chunk\n",
    "    y[1:] = 2*y[1:]\n",
    "    y_bass = np.mean(y[bass_indexL:bass_indexR])\n",
    "    y_midrange = np.mean(y[midrange_indexL:midrange_indexR])\n",
    "    buffer_bass.append(y_bass)\n",
    "    buffer_midrange.append(y_midrange)\n",
    "\n",
    "bhistory_bass = np.mean(buffer_bass)\n",
    "bhistory_midrange = np.mean(buffer_midrange)\n",
    "                        \n",
    "\"\"\"\n",
    "计算两个频率范围对应 buffer 的方差与判断 beat 的阈值\n",
    "\"\"\"\n",
    "    \n",
    "var_buffer_bass = np.mean([np.power((i-bhistory_bass)/np.max(buffer_bass),2) \n",
    "                           for i in buffer_bass])\n",
    "\n",
    "var_buffer_midrange = np.mean([np.power((i-bhistory_midrange)/np.max(buffer_midrange),2) for i in buffer_midrange])\n",
    "\n",
    "threshold_bass = - 15*var_buffer_bass + 1.55\n",
    "\n",
    "threshold_midrange = -15*var_buffer_midrange + 1.55\n",
    "                        \n",
    "\"\"\"\n",
    "上一栏算是先生成第 1 秒 buffer 以及 beat track 阈值，从下面开始就可以 beat track 了\n",
    "\n",
    "\"\"\"\n",
    "\n",
    "print(\"go!\")\n",
    "while True:\n",
    "    block = stream.read(int(chunk))\n",
    "    data = np.fromstring(block, dtype=np.int16)\n",
    "    data_norm = data/(2**15)\n",
    "    y = np.abs(np.fft.fft(data_norm))[0:int(chunk/2)]/chunk\n",
    "    y[1:] = 2*y[1:]\n",
    "    y_bass = np.mean(y[bass_indexL:bass_indexR])\n",
    "    if y_bass > threshold_bass:\n",
    "                        print (\"bass beat!\")\n",
    "    y_midrange = np.mean(y[midrange_indexL:midrange_indexR])\n",
    "    if y_midrange > threshold_midrange:\n",
    "                        print(\"midrange beat!\")\n",
    "    buffer_bass.append(y_bass)\n",
    "    buffer_midrange.append(y_midrange)\n",
    "    \n",
    "    buffer_bass = buffer_bass[1:]\n",
    "    buffer_midrange = buffer_midrange[1:]\n",
    "                        \n",
    "    bhistory_bass = np.mean(buffer_bass)\n",
    "    bhistory_midrange = np.mean(buffer_midrange)\n",
    "                        \n",
    "    var_buffer_bass = np.mean([np.power((i-bhistory_bass)/np.max(buffer_bass),2) for i in buffer_bass])\n",
    "    var_buffer_midrange = np.mean([np.power((i-bhistory_midrange)/np.max(buffer_midrange),2) for i in buffer_midrange])\n",
    "\n",
    "    threshold_bass = - 15*var_buffer_bass + 1.55\n",
    "    threshold_midrange = -15*var_buffer_midrange + 1.55"
   ]
  },
  {
   "cell_type": "code",
   "execution_count": 16,
   "metadata": {},
   "outputs": [
    {
     "data": {
      "text/plain": [
       "0.0"
      ]
     },
     "execution_count": 16,
     "metadata": {},
     "output_type": "execute_result"
    }
   ],
   "source": [
    "y_bass"
   ]
  },
  {
   "cell_type": "code",
   "execution_count": 17,
   "metadata": {},
   "outputs": [
    {
     "data": {
      "text/plain": [
       "0.0"
      ]
     },
     "execution_count": 17,
     "metadata": {},
     "output_type": "execute_result"
    }
   ],
   "source": [
    "y_midrange"
   ]
  },
  {
   "cell_type": "code",
   "execution_count": 18,
   "metadata": {},
   "outputs": [
    {
     "data": {
      "text/plain": [
       "nan"
      ]
     },
     "execution_count": 18,
     "metadata": {},
     "output_type": "execute_result"
    }
   ],
   "source": [
    "threshold_bass"
   ]
  },
  {
   "cell_type": "code",
   "execution_count": null,
   "metadata": {},
   "outputs": [],
   "source": []
  },
  {
   "cell_type": "code",
   "execution_count": null,
   "metadata": {},
   "outputs": [],
   "source": []
  }
 ],
 "metadata": {
  "kernelspec": {
   "display_name": "Python(pyenv)",
   "language": "python",
   "name": "beatstracking"
  },
  "language_info": {
   "codemirror_mode": {
    "name": "ipython",
    "version": 3
   },
   "file_extension": ".py",
   "mimetype": "text/x-python",
   "name": "python",
   "nbconvert_exporter": "python",
   "pygments_lexer": "ipython3",
   "version": "3.8.7"
  }
 },
 "nbformat": 4,
 "nbformat_minor": 4
}
