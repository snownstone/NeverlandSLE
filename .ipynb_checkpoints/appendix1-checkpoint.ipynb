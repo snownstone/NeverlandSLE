{
 "cells": [
  {
   "cell_type": "markdown",
   "metadata": {},
   "source": [
    "# **附1：备注**（之后用更具体准确标题替换）"
   ]
  },
  {
   "cell_type": "markdown",
   "metadata": {},
   "source": [
    "## **Python 虚拟环境 —— 终用 conda**\n",
    "\n",
    "为了将这个项目使用的环境从系统 Python 环境中剥离出来（其实是因为Binder对配置文件的要求），使用了虚拟环境。当前虚拟环境的创建与管理是利用conda， 在此之前还尝试过其他工具，因各种原因逐个放弃。\n",
    "\n",
    "**pipenv**，安装与锁定包实在太慢；python 自带的 **venv** 因为依赖的冲突未能安装成功；**pyenv** 非常好，但是因为 **librosa** 包的安装问题，被迫换了 **conda**。\n",
    "\n",
    "librosa 这个包有一个依赖是 soundfile 包，而这个包在使用 pip 安装前，还需要先在系统内安装一个 libsndfile1 包。也就是说只依靠 pip 不能完成安装，因为 conda 还能安装 python 之外其他的包，使用 conda 就不存在依赖包的手动安装问题。使用 pip 在本地个人电脑上安装虽麻烦但问题终能解决，但是系统（sudo apt install）安装的依赖包无法写入 requirements.txt，所以 mybinder 服务器依靠 requirements.txt 只使用 pip 无法完成 librosa 的安装。因此又从 pyenv 切换到 conda 管理虚拟环境，并使用 environment.yml 供 mybinder 配置服务器环境。\n",
    "\n",
    "**<补充!>** 竟然还有一个叫 **apt.txt** 的东西！这样的话，系统安装的依赖就可以通过 apt.txt 报告，供 Binder 使用。通常是 environment.yml 与 apt.txt 二者结合。[参考这篇文章](https://elc.github.io/posts/embed-interactive-notebooks/)\n",
    "\n",
    "</br>\n",
    "\n",
    "\n",
    "**导出 environment.yml** （导出文件在当前工作路径下）\n",
    "\n",
    "    conda env export > environment.yml"
   ]
  },
  {
   "cell_type": "markdown",
   "metadata": {},
   "source": [
    "</br>\n",
    "</br>\n",
    "\n",
    "## **Jupyterlab 添加虚拟环境下的 kernel**"
   ]
  },
  {
   "cell_type": "markdown",
   "metadata": {},
   "source": [
    "**创建虚拟环境**\n",
    "    \n",
    "    conda create --name evn-name python=3.8\n",
    "\n",
    "**激活虚拟环境**\n",
    "\n",
    "    conda activate env-name\n",
    "\n",
    "**虚拟环境下安装 jupyter kernel**（所有 kernel 在~/.local/share/jupyter/kernels，删除 kernel 文件夹即删除 kernel）\n",
    "\n",
    "    conda install ipykernel\n",
    "    python3 -m ipykernel install --user --name env-name --display-name \"Python(xx)\""
   ]
  },
  {
   "cell_type": "markdown",
   "metadata": {},
   "source": [
    "</br>\n",
    "</br>\n",
    "\n",
    "## **库与包的安装**\n",
    "\n",
    "**使用 conda-forge** （conda install name 没有的，试试 conda install -c conda-forge name）\n",
    "\n",
    "    conda install -c conda-forge wordcloud"
   ]
  },
  {
   "cell_type": "code",
   "execution_count": null,
   "metadata": {},
   "outputs": [],
   "source": []
  }
 ],
 "metadata": {
  "kernelspec": {
   "display_name": "Python(SLE)",
   "language": "python",
   "name": "neverlandsle"
  },
  "language_info": {
   "codemirror_mode": {
    "name": "ipython",
    "version": 3
   },
   "file_extension": ".py",
   "mimetype": "text/x-python",
   "name": "python",
   "nbconvert_exporter": "python",
   "pygments_lexer": "ipython3",
   "version": "3.8.5"
  }
 },
 "nbformat": 4,
 "nbformat_minor": 4
}
