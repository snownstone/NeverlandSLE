{
 "cells": [
  {
   "cell_type": "code",
   "execution_count": 71,
   "metadata": {},
   "outputs": [],
   "source": [
    "import IPython.display as ipd"
   ]
  },
  {
   "cell_type": "markdown",
   "metadata": {},
   "source": [
    "## **录音过程**\n",
    "[截自 Matlab Audio Device Reader](https://www.mathworks.com/help/audio/ref/audiodevicereader.html)"
   ]
  },
  {
   "cell_type": "code",
   "execution_count": null,
   "metadata": {},
   "outputs": [],
   "source": [
    "ipd.Image()"
   ]
  },
  {
   "cell_type": "markdown",
   "metadata": {},
   "source": [
    "## **使用 Pyaudio 同时播放与录音**\n",
    "\n",
    "在向 stream 写入数据以播放时，如果声道数写的 1，除非 rate 加倍（88200），否则播出来的音乐是有问题的，因为原文件是双声道采样\n",
    "\n",
    "使用 wave 读取 .wav 音频文件中的数据，先**写入** stream 以 **播放**，然后迅速**读取**以**录音**\n",
    "\n",
    "**唯一的问题是，录音保存后新生成的 .wav 音频文件播放时的响度小于原音频文件**，下面看一下标准化之后两个文件的振幅大小是否相同，如果标准化之后结果相同，就没有影响"
   ]
  },
  {
   "cell_type": "code",
   "execution_count": null,
   "metadata": {},
   "outputs": [],
   "source": [
    "import pyaudio\n",
    "import wave\n",
    "\n",
    "\n",
    "FORMAT = pyaudio.paInt16\n",
    "CHANNELS = 2\n",
    "CHUNK = 1024\n",
    "RATE = 44100\n",
    "\n",
    "\n",
    "wf = wave.open('audio/song_seg.wav','rb')\n",
    "\n",
    "audio = pyaudio.PyAudio()\n",
    "\n",
    "\n",
    "stream = audio.open(format              = FORMAT,\n",
    "                    channels            = CHANNELS,\n",
    "                    rate                = RATE,\n",
    "                    input               = True,\n",
    "                    output              = True,\n",
    "                    frames_per_buffer   = CHUNK)\n",
    "\n",
    "\n",
    "data = wf.readframes(CHUNK)\n",
    "\n",
    "\n",
    "try:\n",
    "    \n",
    "    frames = []\n",
    "    print(\"* echoing\")\n",
    "    print(\"Press CTRL+C to stop\")\n",
    "    while len(data)>0:\n",
    "        stream.write(data)\n",
    "        data = wf.readframes(CHUNK)\n",
    "        data1 = stream.read(CHUNK)\n",
    "        frames.append(data1)\n",
    " \n",
    "    print(\"* done echoing\")\n",
    "    \n",
    "except KeyboardInterrupt:\n",
    "    stream.stop_stream()\n",
    "    stream.close()\n",
    "    audio.terminate()\n",
    "\n",
    "    \n",
    "wavefile = wave.open('name1.wav', 'wb')\n",
    "wavefile.setnchannels(2)\n",
    "wavefile.setsampwidth(audio.get_sample_size(FORMAT))\n",
    "wavefile.setframerate(RATE)\n",
    "wavefile.writeframes(b''.join(frames))\n",
    "wavefile.close()"
   ]
  },
  {
   "cell_type": "code",
   "execution_count": 21,
   "metadata": {},
   "outputs": [
    {
     "name": "stdout",
     "output_type": "stream",
     "text": [
      "* echoing\n",
      "Press CTRL+C to stop\n",
      "* done echoing\n"
     ]
    }
   ],
   "source": [
    "import pyaudio\n",
    "import time\n",
    "import wave\n",
    "#import json\n",
    "\n",
    "\n",
    "FORMAT = pyaudio.paInt16\n",
    "CHANNELS =2\n",
    "CHUNK = 1024\n",
    "RATE = 44100\n",
    "\n",
    "\n",
    "wf = wave.open('song_seg.wav','rb')\n",
    "\n",
    "audio = pyaudio.PyAudio()\n",
    "\n",
    "#for i in range(audio.get_device_count()):\n",
    "    #print(json.dumps(audio.get_device_info_by_index(i), indent=2))\n",
    "\n",
    "stream = audio.open(format              = FORMAT,\n",
    "                    channels            = CHANNELS,\n",
    "                    rate                = RATE,\n",
    "                    #input               = True,\n",
    "                    output              = True,\n",
    "                    frames_per_buffer   = CHUNK)\n",
    "\n",
    "\n",
    "data = wf.readframes(CHUNK)\n",
    "\n",
    "\n",
    "try:\n",
    "    \n",
    "    print(\"* echoing\")\n",
    "    print(\"Press CTRL+C to stop\")\n",
    "    while len(data)>0:\n",
    "        stream.write(data)\n",
    "        data = wf.readframes(CHUNK)\n",
    "        #time.sleep(0.02)\n",
    "\n",
    " \n",
    "    print(\"* done echoing\")\n",
    "    \n",
    "except KeyboardInterrupt:\n",
    "    stream.stop_stream()\n",
    "    stream.close()\n",
    "    audio.terminate()\n",
    "\n"
   ]
  },
  {
   "cell_type": "code",
   "execution_count": 38,
   "metadata": {},
   "outputs": [
    {
     "name": "stderr",
     "output_type": "stream",
     "text": [
      "<ipython-input-38-06963cc25535>:6: DeprecationWarning: The binary mode of fromstring is deprecated, as it behaves surprisingly on unicode inputs. Use frombuffer instead\n",
      "  data0 = np.fromstring(data, dtype=np.int16)\n"
     ]
    }
   ],
   "source": [
    "import numpy as np\n",
    "\n",
    "wf = wave.open('song_seg.wav','rb')\n",
    "\n",
    "data0 = wf.readframes(CHUNK)\n",
    "data0 = np.fromstring(data, dtype=np.int16)\n",
    "  \n",
    "    \n"
   ]
  },
  {
   "cell_type": "code",
   "execution_count": 60,
   "metadata": {},
   "outputs": [
    {
     "name": "stderr",
     "output_type": "stream",
     "text": [
      "<ipython-input-60-86db20cd2d38>:6: DeprecationWarning: The binary mode of fromstring is deprecated, as it behaves surprisingly on unicode inputs. Use frombuffer instead\n",
      "  data0 = np.fromstring(data, dtype=np.int16)\n"
     ]
    }
   ],
   "source": [
    "import numpy as np\n",
    "\n",
    "wf = wave.open('magoo.wav','rb')\n",
    "\n",
    "data0 = wf.readframes(CHUNK)\n",
    "data0 = np.fromstring(data, dtype=np.int16)"
   ]
  },
  {
   "cell_type": "code",
   "execution_count": 64,
   "metadata": {},
   "outputs": [],
   "source": [
    "import librosa\n",
    "import librosa.display"
   ]
  },
  {
   "cell_type": "code",
   "execution_count": 66,
   "metadata": {},
   "outputs": [],
   "source": [
    "x, sr =librosa.load('song_seg.wav')"
   ]
  },
  {
   "cell_type": "code",
   "execution_count": 67,
   "metadata": {},
   "outputs": [
    {
     "data": {
      "text/plain": [
       "array([0.        , 0.        , 0.        , ..., 0.15902197, 0.1381697 ,\n",
       "       0.14052306], dtype=float32)"
      ]
     },
     "execution_count": 67,
     "metadata": {},
     "output_type": "execute_result"
    }
   ],
   "source": [
    "x"
   ]
  },
  {
   "cell_type": "code",
   "execution_count": 68,
   "metadata": {},
   "outputs": [],
   "source": [
    "y, sr = librosa.load('name1.wav')"
   ]
  },
  {
   "cell_type": "code",
   "execution_count": 69,
   "metadata": {},
   "outputs": [
    {
     "data": {
      "text/plain": [
       "array([-2.5370311e-05, -2.4186240e-05,  1.8491925e-06, ...,\n",
       "       -4.9020756e-02, -4.6681356e-02, -5.1159445e-02], dtype=float32)"
      ]
     },
     "execution_count": 69,
     "metadata": {},
     "output_type": "execute_result"
    }
   ],
   "source": [
    "y"
   ]
  },
  {
   "cell_type": "code",
   "execution_count": 39,
   "metadata": {},
   "outputs": [
    {
     "name": "stderr",
     "output_type": "stream",
     "text": [
      "<ipython-input-39-7b55652cf004>:6: DeprecationWarning: The binary mode of fromstring is deprecated, as it behaves surprisingly on unicode inputs. Use frombuffer instead\n",
      "  data1 = np.fromstring(data, dtype=np.int16)\n"
     ]
    }
   ],
   "source": [
    "import numpy as np\n",
    "\n",
    "wf = wave.open('name1.wav','rb')\n",
    "\n",
    "data1 = wf.readframes(CHUNK)\n",
    "data1 = np.fromstring(data, dtype=np.int16)\n"
   ]
  },
  {
   "cell_type": "code",
   "execution_count": 56,
   "metadata": {},
   "outputs": [
    {
     "data": {
      "text/plain": [
       "8968764"
      ]
     },
     "execution_count": 56,
     "metadata": {},
     "output_type": "execute_result"
    }
   ],
   "source": [
    "wf.getnframes()"
   ]
  },
  {
   "cell_type": "code",
   "execution_count": 50,
   "metadata": {},
   "outputs": [
    {
     "data": {
      "text/plain": [
       "[<matplotlib.lines.Line2D at 0x7fe3bcfbb1f0>]"
      ]
     },
     "execution_count": 50,
     "metadata": {},
     "output_type": "execute_result"
    },
    {
     "data": {
      "image/png": "[encoded data removed]",
      "text/plain": [
       "<Figure size 432x288 with 1 Axes>"
      ]
     },
     "metadata": {
      "needs_background": "light"
     },
     "output_type": "display_data"
    }
   ],
   "source": [
    "import matplotlib.pyplot as plt\n",
    "plt.plot(data0)"
   ]
  },
  {
   "cell_type": "code",
   "execution_count": null,
   "metadata": {},
   "outputs": [],
   "source": []
  }
 ],
 "metadata": {
  "kernelspec": {
   "display_name": "Python(pyenv)",
   "language": "python",
   "name": "beatstracking"
  },
  "language_info": {
   "codemirror_mode": {
    "name": "ipython",
    "version": 3
   },
   "file_extension": ".py",
   "mimetype": "text/x-python",
   "name": "python",
   "nbconvert_exporter": "python",
   "pygments_lexer": "ipython3",
   "version": "3.8.7"
  }
 },
 "nbformat": 4,
 "nbformat_minor": 4
}
