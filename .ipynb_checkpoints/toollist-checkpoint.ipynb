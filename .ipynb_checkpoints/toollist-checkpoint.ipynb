{
 "cells": [
  {
   "cell_type": "markdown",
   "metadata": {},
   "source": [
    "### **播放音乐**"
   ]
  },
  {
   "cell_type": "markdown",
   "metadata": {},
   "source": [
    "**利用 IPython.display**"
   ]
  },
  {
   "cell_type": "code",
   "execution_count": null,
   "metadata": {},
   "outputs": [],
   "source": [
    "import IPython.display as ipd\n",
    "\n",
    "songpath = 'audio/song_seg.wav'\n",
    "ipd.Audio(songpath)"
   ]
  },
  {
   "cell_type": "markdown",
   "metadata": {},
   "source": [
    "**利用 pydub**"
   ]
  },
  {
   "cell_type": "code",
   "execution_count": 5,
   "metadata": {},
   "outputs": [],
   "source": [
    "from pydub import AudioSegment\n",
    "from pydub.playback import play\n",
    "\n",
    "songpath = 'audio/song_seg.wav'\n",
    "song = AudioSegment.from_file(songpath, format=\"wav\")\n",
    "play(song)"
   ]
  },
  {
   "cell_type": "markdown",
   "metadata": {},
   "source": [
    "</br>\n",
    "\n",
    "### **切割音乐**"
   ]
  },
  {
   "cell_type": "code",
   "execution_count": 7,
   "metadata": {},
   "outputs": [],
   "source": [
    "from pydub import AudioSegment\n",
    "from pydub.playback import play\n",
    "\n",
    "songpath = 'audio/song_seg.wav'\n",
    "song = AudioSegment.from_file(songpath, format=\"wav\")\n",
    "song_seg = song[0:1000]         #单位是毫秒，所以这里是截取了第1秒\n",
    "play(song_seg)"
   ]
  },
  {
   "cell_type": "markdown",
   "metadata": {},
   "source": [
    "</br>\n",
    "\n",
    "### **使用 matplotlib.plot 绘图**\n",
    "\n",
    "注：这里说的图对应的是 plot，而不是 figure 或 image，这关系到后面对 figure 与 axes 的理解和使用。如下所示：figure 是指整个图片，这里面或许只有 1 个 plot，也可能包含多个 plot，这些 plot 都是画在整个 figure 内的 axes（即代码中的ax） 中的。另外还要留意 Axes 与 Axis 的不同，后者指的是坐标轴\n"
   ]
  },
  {
   "cell_type": "code",
   "execution_count": 27,
   "metadata": {},
   "outputs": [
    {
     "data": {
      "image/png": "[encoded data removed]",
      "text/plain": [
       "<Figure size 432x288 with 1 Axes>"
      ]
     },
     "metadata": {
      "needs_background": "light"
     },
     "output_type": "display_data"
    }
   ],
   "source": [
    "import matplotlib.pyplot as plt\n",
    "import numpy\n",
    "\n",
    "fig, ax = plt.subplots()  # 生成一个 figure，内含一个 axes\n",
    "line1 =ax.plot([1,2,3,4],[0,1,2,3])   "
   ]
  }
 ],
 "metadata": {
  "kernelspec": {
   "display_name": "Python(pyenv)",
   "language": "python",
   "name": "beatstracking"
  },
  "language_info": {
   "codemirror_mode": {
    "name": "ipython",
    "version": 3
   },
   "file_extension": ".py",
   "mimetype": "text/x-python",
   "name": "python",
   "nbconvert_exporter": "python",
   "pygments_lexer": "ipython3",
   "version": "3.8.7"
  }
 },
 "nbformat": 4,
 "nbformat_minor": 4
}
