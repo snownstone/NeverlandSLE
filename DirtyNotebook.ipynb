{
 "cells": [
  {
   "cell_type": "markdown",
   "metadata": {},
   "source": [
    "# **Dirty Notebook**"
   ]
  },
  {
   "cell_type": "markdown",
   "metadata": {},
   "source": [
    "## **Beat Saber 相关（Beat，Dance）**"
   ]
  },
  {
   "cell_type": "markdown",
   "metadata": {},
   "source": [
    "1. **DeepSaber**: [A deep learning approach to generating Beat Saber levels ](https://github.com/oxai/deepsaber)\n",
    "\n",
    "\n",
    "2. **DanceDanceConvolution-[Dance Dance Convolution dataset tools and models](https://github.com/chrisdonahue/ddc)**"
   ]
  },
  {
   "cell_type": "markdown",
   "metadata": {},
   "source": [
    "## **Python Libs**\n",
    "\n",
    "+ **[Madmom](https://github.com/CPJKU/madmom_tutorials/blob/master/onset_detection.ipynb)**\n",
    "\n",
    "+ **[Markovify](https://github.com/jsvine/markovify)**"
   ]
  },
  {
   "cell_type": "markdown",
   "metadata": {},
   "source": [
    "## **References/Resources**\n",
    "\n",
    "+ [AwesomePythonScientificAudio](https://github.com/faroit/awesome-python-scientific-audio)\n",
    "\n",
    "+ [BTrack:realtime beat tracker(c)](https://github.com/adamstark/BTrack)"
   ]
  },
  {
   "cell_type": "code",
   "execution_count": null,
   "metadata": {},
   "outputs": [],
   "source": []
  },
  {
   "cell_type": "code",
   "execution_count": null,
   "metadata": {},
   "outputs": [],
   "source": []
  }
 ],
 "metadata": {
  "kernelspec": {
   "display_name": "Python(pyenv)",
   "language": "python",
   "name": "beatstracking"
  },
  "language_info": {
   "codemirror_mode": {
    "name": "ipython",
    "version": 3
   },
   "file_extension": ".py",
   "mimetype": "text/x-python",
   "name": "python",
   "nbconvert_exporter": "python",
   "pygments_lexer": "ipython3",
   "version": "3.8.7"
  }
 },
 "nbformat": 4,
 "nbformat_minor": 4
}
