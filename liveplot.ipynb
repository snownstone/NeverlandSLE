{
 "cells": [
  {
   "cell_type": "markdown",
   "metadata": {},
   "source": [
    "# **动态 plot（以 Python 脚本的方式运行）**\n",
    "\n",
    "**在 jupyterlab 中行不通，尝试去用 matplotlib animation 的方式动态呈现 plot**\n",
    "\n",
    "参考教程：[Real-Time Graphing in Python](https://makersportal.com/blog/2018/8/14/real-time-graphing-in-python)\n",
    "\n",
    "问题是，如果将以下代码写为 python 脚本运行，会在 plot 窗口中生成动图，但是在本 jupyter notebook 中，不能生成动图，这 matplotlib 的 backend 以及 jupygerlab 有关。即使安装了 [ipympl](https://github.com/matplotlib/ipympl)，并使用 %matplotlib widget 也不行，换 chrome 浏览器也有问题，先搁置。 有人给出了[解决方法](https://gist.github.com/wassname/04e77eb821447705b399e8e7a6d082ce)，还未尝试"
   ]
  },
  {
   "cell_type": "code",
   "execution_count": 2,
   "metadata": {},
   "outputs": [],
   "source": [
    "import matplotlib.pyplot as plt\n",
    "import numpy as np\n",
    "plt.style.use('ggplot')"
   ]
  },
  {
   "cell_type": "markdown",
   "metadata": {},
   "source": [
    "lines:The 2D line class which can draw with a variety of line styles, markers and colors.\n",
    "Axes.plot() 返回的是一个 Line2D 列表（ a list of lines representing the plotted data）\""
   ]
  },
  {
   "cell_type": "code",
   "execution_count": 6,
   "metadata": {},
   "outputs": [],
   "source": [
    "def live_plotter(x_vec, y1_data, line1, identifier='', pause_time=0.01):\n",
    "    \n",
    "    if line1==[]:\n",
    "        # turn the interactive mode on\n",
    "        plt.ion()          \n",
    "        fig = plt.figure(figsize=(13,6))\n",
    "        # 111 分别对应行数、列数、index\n",
    "        ax = fig.add_subplot(111)     \n",
    "        \n",
    "        # 下方逗号必需加，ax.plot返回的是一个 Line2D list，not subscriptable，no len()\n",
    "        # 不加逗号，就是一个list中的元素，subscriptable，has len()\n",
    "        line1, = ax.plot(x_vec, y1_data, '-o', alpha=0.8)\n",
    "        plt.ylabel('Y Label')\n",
    "        plt.title('Title: {}'.format(identifier))\n",
    "        \n",
    "    \n",
    "    # 后续只需要更新 y1_data\n",
    "    line1.set_ydata(y1_data)\n",
    "    if np.min(y1_data)<=line1.axes.get_ylim()[0] or np.max(y1_data)>=line1.axes.get_ylim()[1]:\n",
    "        plt.ylim([np.min(y1_data)-np.std(y1_data), np.max(y1_data)+np.std(y1_data)])\n",
    "    plt.pause(pause_time)\n",
    "    \n",
    "    return line1"
   ]
  },
  {
   "cell_type": "code",
   "execution_count": null,
   "metadata": {},
   "outputs": [],
   "source": [
    "size = 100\n",
    "x_vec = np.linspace(0,1,size,endpoint=False)\n",
    "y_vec = np.random.randn(len(x_vec))\n",
    "line1 = []\n",
    "while True:\n",
    "    # np.random.randn():Return a sample (or samples) from the “standard normal” distribution.\n",
    "    rand_val = np.random.randn(1)  \n",
    "    y_vec[-1] = rand_val\n",
    "    line1 = live_plotter(x_vec, y_vec, line1)\n",
    "    y_vec = np.append(y_vec[1:],0.0)"
   ]
  }
 ],
 "metadata": {
  "kernelspec": {
   "display_name": "Python(pyenv)",
   "language": "python",
   "name": "beatstracking"
  },
  "language_info": {
   "codemirror_mode": {
    "name": "ipython",
    "version": 3
   },
   "file_extension": ".py",
   "mimetype": "text/x-python",
   "name": "python",
   "nbconvert_exporter": "python",
   "pygments_lexer": "ipython3",
   "version": "3.8.7"
  }
 },
 "nbformat": 4,
 "nbformat_minor": 4
}
