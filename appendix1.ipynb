{
 "cells": [
  {
   "cell_type": "markdown",
   "metadata": {},
   "source": [
    "# **附1：软硬件使用备注**"
   ]
  },
  {
   "cell_type": "markdown",
   "metadata": {},
   "source": [
    "\n",
    "## **音频分析 —— librosa**\n",
    "\n",
    "+ [官方指南](https://librosa.org/)\n",
    "\n",
    "</br>\n",
    "\n",
    "\n",
    "## **音频分析 —— madmom**\n",
    "\n",
    "对比 librosa，beat 分析更丰富（如包括DownBeat tracking），而且使用了机器学习\n",
    "\n",
    "+ [官方指南](https://madmom.readthedocs.io/en/latest/index.html)\n",
    "\n",
    "\n",
    "</br>"
   ]
  },
  {
   "cell_type": "markdown",
   "metadata": {},
   "source": [
    "## **跨平台音频 I/O 库 PortAudio 的 Python bindings —— PyAudio**\n",
    "\n",
    "[网址](https://people.csail.mit.edu/hubert/pyaudio/)\n",
    "\n",
    "使用 python 播放或录制音频\n",
    "\n",
    "</br>"
   ]
  },
  {
   "cell_type": "markdown",
   "metadata": {},
   "source": [
    "## **多媒体文件与流的处理 —— ffmpeg**\n",
    "\n",
    "</br>"
   ]
  },
  {
   "cell_type": "markdown",
   "metadata": {},
   "source": [
    "## **使用 Python 播放音乐 —— PyDub**\n",
    "\n",
    "使用 Pydub 播放音乐需要安装 PyAudio 或是 simpleaudio，这里装的是 PyAudio（ ubuntu 需要先安装 sudo apt install portaudio19-dev）\n",
    " "
   ]
  },
  {
   "cell_type": "code",
   "execution_count": null,
   "metadata": {},
   "outputs": [],
   "source": [
    "from pydub import AudioSegment\n",
    "from pydub.playback import play \n",
    "\n",
    "song = AudioSegment.from_mp3(\"song_path\")\n",
    "play(song)"
   ]
  },
  {
   "cell_type": "markdown",
   "metadata": {},
   "source": [
    "</br>"
   ]
  },
  {
   "cell_type": "markdown",
   "metadata": {},
   "source": [
    "## **绘图 —— matplotlib 与 librosa.display**"
   ]
  },
  {
   "cell_type": "markdown",
   "metadata": {},
   "source": [
    "## **Python 虚拟环境 —— 终用 pyenv**\n",
    "\n",
    "为了将这个项目使用的环境从系统 Python 环境中剥离出来（其实是因为 Binder 对配置文件的要求），使用了虚拟环境。在尝试过多种工具后，最终还是用的 [**pyenv**](https://github.com/pyenv/pyenv)。中间遇到的各种问题记录如下：\n",
    "\n",
    "+ **pipenv**，安装与锁定包实在太慢\n",
    "\n",
    "+ python 自带的 **venv** 因为依赖的冲突未能安装成功\n",
    "\n",
    "+ 换用 pyenv，但因为 **librosa** 包在 binder 远程服务器上的安装问题，又换成了 **conda**\n",
    "\n",
    "    关于 **librosa 安装**：如果使用 conda，直接 conda install librosa 一步完事；如果使用 pip，win或os用户两步完事：pip install soundfile, pip install librosa；如果使用 pip，linux 用户三步完事：sudo apt install libsndfile1, pip install soundfile, pip install librosa。也就是说，作为 linux 和 pip 用户，要手动安装它的一个特别依赖，这在本地个人电脑上虽然麻烦但也不是问题，只是在配置远程 binder 服务器时，一开始不知道除了 requirements.txt 之外可以再提供一个 apt.txt 来安装libsndfile1，所以换成了 conda\n",
    "\n",
    "+ 后来发现 conda 也有问题，有些 python 包没有 conda 版的，还是要混用 pip，而且因为我装的是 miniconda3，它在安装一些包时竟然也装精简非完整版的...既然如此，反正也知道如何只用 pip 完成 librosa 在 binder 服务器上的安装，干脆又换回了 **pyenv**...\n",
    "\n",
    "\n",
    "**使用中遇到的问题及解决方案：**\n",
    "\n",
    "+ **rebuild python：** 因为 jupyter-lab 的插件安装出了问题，需要安装 libsqlite3-dev 库，这个库安装之后需要 **rebuild** 虚拟环境中的 python，rebuild 方法就是直接用 pyenv 在当前环境下再次**安装同一版本**的 python 即可\n",
    "\n",
    "</br>\n"
   ]
  },
  {
   "cell_type": "markdown",
   "metadata": {},
   "source": [
    "</br>\n",
    "\n",
    "## **使用 CodeLab Adapter Linda 实现 Python 与 Scratch 的互动**"
   ]
  },
  {
   "cell_type": "code",
   "execution_count": null,
   "metadata": {},
   "outputs": [],
   "source": [
    "import time\n",
    "# 先安装依赖 pip install https://github.com/CodeLabClub/codelab_adapter_client_python/archive/master.zip\n",
    "from codelab_adapter_client import AdapterNode\n",
    "\n",
    "class MyNode(AdapterNode):\n",
    "    NODE_ID = \"linda/test\"\n",
    "\n",
    "    def __init__(self):\n",
    "        super().__init__()\n",
    "\n",
    "node = MyNode()\n",
    "node.receive_loop_as_thread()\n",
    "time.sleep(0.1) \n",
    "\n",
    "# 以播放音乐为例\n",
    "node.linda_in([\"music\"])  \n",
    "song = AudioSegment.from_mp3(\"song_path\")\n",
    "play(song)"
   ]
  },
  {
   "cell_type": "markdown",
   "metadata": {},
   "source": [
    "</br>\n",
    "\n",
    "### **ALSA(Advanced Linux Sound Architecture)**\n",
    "\n",
    "Advanced Linux Sound Architecture (ALSA) is a software framework and part of the Linux kernel that provides an application programming interface (API) for sound card device drivers. （[wiki](https://en.wikipedia.org/wiki/Advanced_Linux_Sound_Architecture)）\n",
    "\n",
    "### **PulseAudio**\n",
    "\n",
    "In broad terms ALSA is a kernel subsystem that provides the sound hardware driver, and PulseAudio is the interface engine between Applications and ALSA. ([wiki](https://en.wikipedia.org/wiki/PulseAudio))\n",
    "\n",
    "可以安装 _**pavucontrol**_ 管理音频输入输出设备"
   ]
  },
  {
   "cell_type": "code",
   "execution_count": null,
   "metadata": {},
   "outputs": [],
   "source": []
  }
 ],
 "metadata": {
  "kernelspec": {
   "display_name": "Python(pyenv)",
   "language": "python",
   "name": "beatstracking"
  },
  "language_info": {
   "codemirror_mode": {
    "name": "ipython",
    "version": 3
   },
   "file_extension": ".py",
   "mimetype": "text/x-python",
   "name": "python",
   "nbconvert_exporter": "python",
   "pygments_lexer": "ipython3",
   "version": "3.8.7"
  }
 },
 "nbformat": 4,
 "nbformat_minor": 4
}
