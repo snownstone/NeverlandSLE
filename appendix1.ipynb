{
 "cells": [
  {
   "cell_type": "markdown",
   "metadata": {},
   "source": [
    "# **附1：Python 包备注**"
   ]
  },
  {
   "cell_type": "markdown",
   "metadata": {},
   "source": [
    "## **Python 虚拟环境 —— 终用 pyenv**\n",
    "\n",
    "为了将这个项目使用的环境从系统 Python 环境中剥离出来（其实是因为 Binder 对配置文件的要求），使用了虚拟环境。在尝试过多种工具后，最终还是用的 [**pyenv**](https://github.com/pyenv/pyenv)。中间遇到的各种问题记录如下：\n",
    "\n",
    "+ **pipenv**，安装与锁定包实在太慢\n",
    "\n",
    "+ python 自带的 **venv** 因为依赖的冲突未能安装成功\n",
    "\n",
    "+ 换用 pyenv，但因为 **librosa** 包在 binder 远程服务器上的安装问题，又换成了 **conda**\n",
    "\n",
    "    关于 **librosa 安装**：如果使用 conda，直接 conda install librosa 一步完事；如果使用 pip，win或os用户两步完事：pip install soundfile, pip install librosa；如果使用 pip，linux 用户三步完事：sudo apt install libsndfile1, pip install soundfile, pip install librosa。也就是说，作为 linux 和 pip 用户，要手动安装它的一个特别依赖，这在本地个人电脑上虽然麻烦但也不是问题，只是在配置远程 binder 服务器时，一开始不知道除了 requirements.txt 之外可以再提供一个 apt.txt 来安装libsndfile1，所以换成了 conda\n",
    "\n",
    "+ 后来发现 conda 也有问题，有些 python 包没有 conda 版的，还是要混用 pip，而且因为我装的是 miniconda3，它在安装一些包时竟然也装精简非完整版的...既然如此，反正也知道如何只用 pip 完成 librosa 在 binder 服务器上的安装，干脆又换回了 **pyenv**...\n",
    "\n",
    "\n",
    "</br>\n"
   ]
  },
  {
   "cell_type": "markdown",
   "metadata": {},
   "source": [
    "## **使用 Python 播放音乐 —— PyDub**\n",
    "\n",
    "使用 Pydub 播放音乐需要安装 PyAudio 或是 simpleaudio，这里装的是 PyAudio（ ubuntu 需要先安装 sudo apt install portaudio19-dev）\n",
    " "
   ]
  },
  {
   "cell_type": "code",
   "execution_count": null,
   "metadata": {},
   "outputs": [],
   "source": [
    "from pydub import AudioSegment\n",
    "from pydub.playback import play \n",
    "\n",
    "song = AudioSegment.from_mp3(\"song_path\")\n",
    "play(song)"
   ]
  },
  {
   "cell_type": "markdown",
   "metadata": {},
   "source": [
    "</br>\n",
    "\n",
    "## **使用 CodeLab Adapter Linda 实现 Python 与 Scratch 的互动**"
   ]
  },
  {
   "cell_type": "code",
   "execution_count": null,
   "metadata": {},
   "outputs": [],
   "source": [
    "import time\n",
    "# 先安装依赖 pip install https://github.com/CodeLabClub/codelab_adapter_client_python/archive/master.zip\n",
    "from codelab_adapter_client import AdapterNode\n",
    "\n",
    "class MyNode(AdapterNode):\n",
    "    NODE_ID = \"linda/test\"\n",
    "\n",
    "    def __init__(self):\n",
    "        super().__init__()\n",
    "\n",
    "node = MyNode()\n",
    "node.receive_loop_as_thread()\n",
    "time.sleep(0.1) \n",
    "\n",
    "# 以播放音乐为例\n",
    "node.linda_in([\"music\"])  \n",
    "song = AudioSegment.from_mp3(\"song_path\")\n",
    "play(song)"
   ]
  }
 ],
 "metadata": {
  "kernelspec": {
   "display_name": "Python(pyenv)",
   "language": "python",
   "name": "beatstracking"
  },
  "language_info": {
   "codemirror_mode": {
    "name": "ipython",
    "version": 3
   },
   "file_extension": ".py",
   "mimetype": "text/x-python",
   "name": "python",
   "nbconvert_exporter": "python",
   "pygments_lexer": "ipython3",
   "version": "3.8.7"
  }
 },
 "nbformat": 4,
 "nbformat_minor": 4
}
