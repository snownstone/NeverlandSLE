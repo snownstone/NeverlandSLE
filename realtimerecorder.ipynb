{
 "cells": [
  {
   "cell_type": "markdown",
   "metadata": {},
   "source": [
    "# **P5: 使用 Python 实时录音**\n",
    "\n",
    "这是实时（real time）分析音乐节拍的基础，也可算作[P3：使用 python 录音](AudioRecording.ipynb)的高阶版\n",
    "\n",
    "代码参考 sound-to-light-osc-master，感谢！"
   ]
  },
  {
   "cell_type": "code",
   "execution_count": 1,
   "metadata": {},
   "outputs": [],
   "source": [
    "import pyaudio\n",
    "import numpy\n",
    "import threading"
   ]
  },
  {
   "cell_type": "code",
   "execution_count": null,
   "metadata": {},
   "outputs": [],
   "source": [
    "RATE = 44100                    # 采样率\n",
    "BUFFERSIZE = 1024                    # 2**10，buffer 中的 sample 数\n",
    "secToRecord = 0.1                        # 录音时长（秒）\n",
    "kill_threads = False\n",
    "has_new_audio = False\n",
    "\n",
    "\n",
    "buffers_to_record = int(RATE*secToRecord/BUFFERSIZE)\n",
    "samples_to_record = int(RATE*secToRecord)\n",
    "chunks_to_record = int(samples_to_record/BUFFERSIZE)     # chunks 不就是 buffers 嘛，注意看后面有无混用\n",
    "sec_per_point = 1/RATE                             # 这里的 point 指的就是 sample \n",
    "\n",
    "\n",
    "p = pyaudio.PyAudio()\n",
    "\n",
    "print(\"使用默认音频输入设备：{}\".format(p.get_default_input_device_info()['name']))\n",
    "\n",
    "in_stream = p.open(format=pyaudio.paInt16, channels=1, rate=RATE, input=True, frames_per_buffer=BUFFERSIZE)\n",
    "\n",
    "audio = numpy.empty((buffers_to_record*BUFFERSIZE), dtype=numpy.int16)  # 这里源码是chunks_to_record，替换成buffers了\n",
    "\n",
    "\n",
    "audio_string = in_stream.read(BUFFERSIZE)"
   ]
  }
 ],
 "metadata": {
  "kernelspec": {
   "display_name": "Python(pyenv)",
   "language": "python",
   "name": "beatstracking"
  },
  "language_info": {
   "codemirror_mode": {
    "name": "ipython",
    "version": 3
   },
   "file_extension": ".py",
   "mimetype": "text/x-python",
   "name": "python",
   "nbconvert_exporter": "python",
   "pygments_lexer": "ipython3",
   "version": "3.8.7"
  }
 },
 "nbformat": 4,
 "nbformat_minor": 4
}
