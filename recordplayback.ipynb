{
 "cells": [
  {
   "cell_type": "markdown",
   "metadata": {},
   "source": [
    "## **录音过程**\n",
    "\n",
    "[截自:Matlab Audio Device Reader](https://www.mathworks.com/help/audio/ref/audiodevicereader.html)   \n"
   ]
  },
  {
   "cell_type": "code",
   "execution_count": null,
   "metadata": {},
   "outputs": [],
   "source": [
    "import IPython.display as ipd\n",
    "ipd.Image(\"img/audio_read.png\")"
   ]
  },
  {
   "cell_type": "markdown",
   "metadata": {},
   "source": [
    "## **播放过程**\n",
    "\n",
    "[截自Matlab Audio Device Writer](https://www.mathworks.com/help/audio/ref/audiodevicewriter.html)"
   ]
  },
  {
   "cell_type": "code",
   "execution_count": null,
   "metadata": {},
   "outputs": [],
   "source": [
    "ipd.Image(\"img/audio_write.png\")"
   ]
  },
  {
   "cell_type": "markdown",
   "metadata": {},
   "source": [
    "## **同时录音和播放**\n",
    "\n",
    "[截自 Audio I/O: Buffering, Latency, and Throughput](https://www.mathworks.com/help/audio/gs/audio-io-buffering-latency-and-throughput.html)"
   ]
  },
  {
   "cell_type": "code",
   "execution_count": null,
   "metadata": {},
   "outputs": [],
   "source": [
    "ipd.Image('img/synchronize_rec_read.png')"
   ]
  },
  {
   "cell_type": "markdown",
   "metadata": {},
   "source": [
    "## **使用 Pyaudio 同时播放与录音**\n",
    "\n",
    "在向 stream 写入数据以播放时，如果声道数写的 1，除非 rate 加倍（88200），否则播出来的音乐是有问题的，因为原文件是双声道采样\n",
    "\n",
    "使用 wave 读取 .wav 音频文件中的数据，先**写入** stream 以 **播放**，然后迅速**读取**以**录音**\n",
    "\n",
    "**唯一的问题是，录音保存后新生成的 .wav 音频文件播放时的响度小于原音频文件**，下面看一下标准化之后两个文件的振幅大小是否相同，如果标准化之后结果相同，就没有影响"
   ]
  },
  {
   "cell_type": "markdown",
   "metadata": {},
   "source": [
    "</br>\n",
    "</br>"
   ]
  },
  {
   "cell_type": "code",
   "execution_count": null,
   "metadata": {},
   "outputs": [],
   "source": [
    "def freq_index():\n",
    "    end_index = []\n",
    "    i = 10\n",
    "    while i >0:\n",
    "        end_index.append(int(chunk/2**i))\n",
    "        i = i - 1\n",
    "\n",
    "    start_index = end_index[:-1]\n",
    "    start_index.insert(0,0)  \n",
    "    \n",
    "    return start_index, end_index"
   ]
  },
  {
   "cell_type": "code",
   "execution_count": null,
   "metadata": {},
   "outputs": [],
   "source": [
    "\"\"\"\n",
    "使用 sounddevice 和 callback 实时绘制频谱\n",
    "\n",
    "linda out 放在 callback 函数中报错\n",
    "\"\"\"\n",
    "\n",
    "import sounddevice as sd\n",
    "import numpy as np\n",
    "from codelab_adapter_client import AdapterNode\n",
    "import time\n",
    "\n",
    "\n",
    "class MyNode(AdapterNode):\n",
    "    NODE_ID = \"linda/test\"\n",
    "\n",
    "    def __init__(self):\n",
    "        super().__init__()\n",
    "        \n",
    "node = MyNode()\n",
    "node.receive_loop_as_thread()\n",
    "\n",
    "\n",
    "chunk = 1024         # 每次以 1024 个 sample 为 1 组（chunk）\n",
    "num_of_bands = 10          # downsample 频率范围，合并分成 12 组呈现结果          \n",
    "fs = 44100                 # 采样率\n",
    "\n",
    "\n",
    "def freq_index():\n",
    "    end_index = []\n",
    "    i = num_of_bands\n",
    "    while i >0:\n",
    "        end_index.append(int(chunk/2**i))\n",
    "        i = i - 1\n",
    "\n",
    "    start_index = end_index[:-1]\n",
    "    start_index.insert(0,0)  \n",
    "    \n",
    "    return start_index, end_index\n",
    "\n",
    "def callback(indata, frames, time, status):\n",
    "    if status:\n",
    "        print(status)\n",
    "             \n",
    "    if any(indata):\n",
    "        data_w = indata*np.hanning(len(indata))\n",
    "        fft = np.abs(np.fft.fft(data_w))[0:int(chunk/2)]/chunk\n",
    "        print(np.shape(fft))\n",
    "        fft[1:] = 2*fft[1:]\n",
    "        \n",
    "\n",
    "        out_li = [i for i in range(num_of_bands)]\n",
    "        \n",
    "        start_index, end_index = freq_index()\n",
    "       \n",
    "        for i in np.arange(num_of_bands):\n",
    "            fft_band = np.mean(fft[start_index[i]:end_index[i]])   \n",
    "            out_li[i] = float(fft_band)\n",
    "            i = i +1\n",
    "        print(out_li)\n",
    "        outlist = ['X2_12',out_li]\n",
    "        #node.linda_out(outlist)\n",
    "\n",
    "        \n",
    "    else:\n",
    "        print(\"no input\")\n",
    "\n",
    "try:\n",
    "    with sd.InputStream(channels=1, callback=callback, blocksize=chunk, samplerate=fs, dtype='int16'):\n",
    "        while True:\n",
    "            time.sleep(1/fs*chunk)\n",
    "            \n",
    "except KeyboardInterrupt:\n",
    "    print('interrupt by user')\n"
   ]
  },
  {
   "cell_type": "code",
   "execution_count": null,
   "metadata": {},
   "outputs": [],
   "source": [
    "x2"
   ]
  },
  {
   "cell_type": "code",
   "execution_count": null,
   "metadata": {},
   "outputs": [],
   "source": [
    "a"
   ]
  },
  {
   "cell_type": "code",
   "execution_count": null,
   "metadata": {},
   "outputs": [],
   "source": [
    "b = np.mean(a[1:3])\n",
    "b"
   ]
  },
  {
   "cell_type": "code",
   "execution_count": null,
   "metadata": {},
   "outputs": [],
   "source": [
    "c=float(b)"
   ]
  },
  {
   "cell_type": "code",
   "execution_count": null,
   "metadata": {},
   "outputs": [],
   "source": [
    "e=[1,2,3]\n",
    "e[0]=c"
   ]
  },
  {
   "cell_type": "code",
   "execution_count": null,
   "metadata": {},
   "outputs": [],
   "source": [
    "type(e[0])"
   ]
  },
  {
   "cell_type": "code",
   "execution_count": null,
   "metadata": {
    "tags": []
   },
   "outputs": [],
   "source": [
    "end_index = []\n",
    "for i in np.arange(10):    \n",
    "    end_index.append(int((chunk/2)/2**i)-1)\n",
    "end_index.reverse()\n",
    "\n"
   ]
  },
  {
   "cell_type": "code",
   "execution_count": null,
   "metadata": {},
   "outputs": [],
   "source": [
    "start_index = [0]\n",
    "for i in end_index[:-1]:\n",
    "    start_index.append(i+1)"
   ]
  },
  {
   "cell_type": "code",
   "execution_count": null,
   "metadata": {},
   "outputs": [],
   "source": [
    "end_index"
   ]
  },
  {
   "cell_type": "code",
   "execution_count": null,
   "metadata": {},
   "outputs": [],
   "source": [
    "start_index"
   ]
  },
  {
   "cell_type": "code",
   "execution_count": null,
   "metadata": {},
   "outputs": [],
   "source": [
    "indata"
   ]
  },
  {
   "cell_type": "code",
   "execution_count": null,
   "metadata": {},
   "outputs": [],
   "source": [
    "sd.default.channels"
   ]
  },
  {
   "cell_type": "code",
   "execution_count": null,
   "metadata": {},
   "outputs": [],
   "source": [
    "len(x)"
   ]
  },
  {
   "cell_type": "code",
   "execution_count": null,
   "metadata": {},
   "outputs": [],
   "source": [
    "import sounddevice as sd\n",
    "\n",
    "\n",
    "sample_rate = 44100\n",
    "chunk = 1024\n",
    "\n",
    "def callback(indata, outdata, frames, time, status):\n",
    "    if status:\n",
    "        print(status)\n",
    "    outdata[:] = indata\n",
    "    \n",
    "\n",
    "with sd.RawStream(samplerate=sample_rate, blocksize=chunk, channels=2, callback=callback):\n",
    "    print(\"playing\")\n"
   ]
  },
  {
   "cell_type": "code",
   "execution_count": null,
   "metadata": {},
   "outputs": [],
   "source": [
    "sd.query_devices()"
   ]
  },
  {
   "cell_type": "code",
   "execution_count": null,
   "metadata": {},
   "outputs": [],
   "source": [
    "import sounddevice as sd\n",
    "import queue\n",
    "import threading\n",
    "import soundfile as sf\n",
    "\n",
    "chunk = 1024\n",
    "num_chunk_perBuffer = 20\n",
    "\n",
    "q = queue.Queue(maxsize = num_chunk_perBuffer)\n",
    "\n",
    "event = threading.Event()\n",
    "\n",
    "\n",
    "def callback(outdata, frames, time, status):\n",
    "    if status:\n",
    "        print(status)\n",
    "\n",
    "    data = q.get_nowait()\n",
    "    outdata[:]=data\n",
    "\n",
    "\n",
    "try:\n",
    "    with sf.SoundFile(\"audio/magoo.wav\") as sf:\n",
    "        for i in range(num_chunk_perBuffer):\n",
    "            data = sf.buffer_read(chunk, dtype=\"float32\")\n",
    "            q.put_nowait(data)\n",
    "        stream = sd.RawOutputStream(\n",
    "        samplerate = 44100, blocksize=chunk, channels=2, dtype=\"float32\", callback=callback, \n",
    "        finished_callback = event.set)\n",
    "        \n",
    "        with stream:\n",
    "            timeout = chunk*num_chunk_perBuffer/44100\n",
    "            while data:\n",
    "                data = sf.buffer_read(chunk, dtype=\"float32\")\n",
    "                q.put(data,timeout=timeout)\n",
    "            \n",
    "            event.wait()\n",
    "            \n",
    "except KeyboardInterrupt:\n",
    "    print(\"stop\")"
   ]
  },
  {
   "cell_type": "code",
   "execution_count": null,
   "metadata": {},
   "outputs": [],
   "source": [
    "myrecording = sd.playrec(myrecording,88100,channels=1)"
   ]
  },
  {
   "cell_type": "code",
   "execution_count": null,
   "metadata": {},
   "outputs": [],
   "source": [
    "myrecording"
   ]
  },
  {
   "cell_type": "code",
   "execution_count": null,
   "metadata": {},
   "outputs": [],
   "source": [
    "frames"
   ]
  },
  {
   "cell_type": "code",
   "execution_count": null,
   "metadata": {},
   "outputs": [],
   "source": [
    "sd.stop()"
   ]
  },
  {
   "cell_type": "code",
   "execution_count": null,
   "metadata": {},
   "outputs": [],
   "source": [
    "import pyaudio\n",
    "import wave\n",
    "\n",
    "\n",
    "FORMAT = pyaudio.paInt16\n",
    "CHANNELS = 2\n",
    "CHUNK = 1024\n",
    "RATE = 44100\n",
    "\n",
    "\n",
    "wf = wave.open('audio/song_seg.wav','rb')\n",
    "\n",
    "audio = pyaudio.PyAudio()\n",
    "\n",
    "\n",
    "stream = audio.open(format              = FORMAT,\n",
    "                    channels            = CHANNELS,\n",
    "                    rate                = RATE,\n",
    "                    input               = True,\n",
    "                    output              = True,\n",
    "                    frames_per_buffer   = CHUNK)\n",
    "\n",
    "\n",
    "data = wf.readframes(CHUNK)\n",
    "\n",
    "\n",
    "try:\n",
    "    \n",
    "    frames = []\n",
    "    print(\"* echoing\")\n",
    "    print(\"Press CTRL+C to stop\")\n",
    "    while len(data)>0:\n",
    "        stream.write(data)\n",
    "        data = wf.readframes(CHUNK)\n",
    "        data1 = stream.read(CHUNK)\n",
    "        frames.append(data1)\n",
    " \n",
    "    print(\"* done echoing\")\n",
    "    \n",
    "except KeyboardInterrupt:\n",
    "    stream.stop_stream()\n",
    "    stream.close()\n",
    "    audio.terminate()\n",
    "\n",
    "    \n",
    "wavefile = wave.open('name1.wav', 'wb')\n",
    "wavefile.setnchannels(2)\n",
    "wavefile.setsampwidth(audio.get_sample_size(FORMAT))\n",
    "wavefile.setframerate(RATE)\n",
    "wavefile.writeframes(b''.join(frames))\n",
    "wavefile.close()"
   ]
  },
  {
   "cell_type": "code",
   "execution_count": null,
   "metadata": {},
   "outputs": [],
   "source": [
    "import pyaudio\n",
    "import time\n",
    "import wave\n",
    "#import json\n",
    "\n",
    "\n",
    "FORMAT = pyaudio.paInt16\n",
    "CHANNELS =2\n",
    "CHUNK = 1024\n",
    "RATE = 44100\n",
    "\n",
    "\n",
    "wf = wave.open('song_seg.wav','rb')\n",
    "\n",
    "audio = pyaudio.PyAudio()\n",
    "\n",
    "#for i in range(audio.get_device_count()):\n",
    "    #print(json.dumps(audio.get_device_info_by_index(i), indent=2))\n",
    "\n",
    "stream = audio.open(format              = FORMAT,\n",
    "                    channels            = CHANNELS,\n",
    "                    rate                = RATE,\n",
    "                    #input               = True,\n",
    "                    output              = True,\n",
    "                    frames_per_buffer   = CHUNK)\n",
    "\n",
    "\n",
    "data = wf.readframes(CHUNK)\n",
    "\n",
    "\n",
    "try:\n",
    "    \n",
    "    print(\"* echoing\")\n",
    "    print(\"Press CTRL+C to stop\")\n",
    "    while len(data)>0:\n",
    "        stream.write(data)\n",
    "        data = wf.readframes(CHUNK)\n",
    "        #time.sleep(0.02)\n",
    "\n",
    " \n",
    "    print(\"* done echoing\")\n",
    "    \n",
    "except KeyboardInterrupt:\n",
    "    stream.stop_stream()\n",
    "    stream.close()\n",
    "    audio.terminate()\n",
    "\n"
   ]
  }
 ],
 "metadata": {
  "kernelspec": {
   "display_name": "Python(pyenv)",
   "language": "python",
   "name": "beatstracking"
  },
  "language_info": {
   "codemirror_mode": {
    "name": "ipython",
    "version": 3
   },
   "file_extension": ".py",
   "mimetype": "text/x-python",
   "name": "python",
   "nbconvert_exporter": "python",
   "pygments_lexer": "ipython3",
   "version": "3.8.7"
  }
 },
 "nbformat": 4,
 "nbformat_minor": 4
}
