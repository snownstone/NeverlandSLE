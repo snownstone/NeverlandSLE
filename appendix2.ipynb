{
 "cells": [
  {
   "cell_type": "markdown",
   "metadata": {},
   "source": [
    "# **附 2：参考资料**"
   ]
  },
  {
   "cell_type": "markdown",
   "metadata": {},
   "source": [
    "## **Binder 相关**\n",
    "\n",
    "+ [Embed Interactive Jupyter Notebooks in Static Websites for Free](https://elc.github.io/posts/embed-interactive-notebooks/) (+ nbinteract)\n",
    "\n",
    "+ [NbinteractDoc](https://www.nbinteract.com/index.html) \n",
    "\n",
    "+ [NbinteractPDF](https://www2.eecs.berkeley.edu/Pubs/TechRpts/2018/EECS-2018-57.pdf)"
   ]
  },
  {
   "cell_type": "markdown",
   "metadata": {},
   "source": [
    "   \n",
    "      \n",
    "         \n",
    "            \n",
    "            "
   ]
  },
  {
   "cell_type": "markdown",
   "metadata": {},
   "source": [
    "## **Jupyter 相关**\n",
    "\n",
    "+ [NbconvertDoc](https://nbconvert.readthedocs.io/en/latest/index.html) 将 notebook 导出为 HTML"
   ]
  },
  {
   "cell_type": "markdown",
   "metadata": {},
   "source": [
    "    \n",
    "       \n",
    "          "
   ]
  },
  {
   "cell_type": "markdown",
   "metadata": {},
   "source": [
    "## **Python 相关**    \n",
    "\n",
    "+ [Managing Multiple Python Versions With pyenv](https://realpython.com/intro-to-pyenv/#working-with-multiple-environments)"
   ]
  },
  {
   "cell_type": "code",
   "execution_count": null,
   "metadata": {},
   "outputs": [],
   "source": []
  }
 ],
 "metadata": {
  "kernelspec": {
   "display_name": "Python(pyenv)",
   "language": "python",
   "name": "beatstracking"
  },
  "language_info": {
   "codemirror_mode": {
    "name": "ipython",
    "version": 3
   },
   "file_extension": ".py",
   "mimetype": "text/x-python",
   "name": "python",
   "nbconvert_exporter": "python",
   "pygments_lexer": "ipython3",
   "version": "3.8.7"
  }
 },
 "nbformat": 4,
 "nbformat_minor": 4
}
