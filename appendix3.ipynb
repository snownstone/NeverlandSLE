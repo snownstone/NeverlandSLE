{
 "cells": [
  {
   "cell_type": "markdown",
   "metadata": {},
   "source": [
    "# **附3：Linux Audio 备注**\n",
    "\n",
    "### **ALSA(Advanced Linux Sound Architecture)**\n",
    "\n",
    "Advanced Linux Sound Architecture (ALSA) is a software framework and part of the Linux kernel that provides an application programming interface (API) for sound card device drivers. （[wiki](https://en.wikipedia.org/wiki/Advanced_Linux_Sound_Architecture)）\n",
    "\n",
    "### **PulseAudio**\n",
    "\n",
    "In broad terms ALSA is a kernel subsystem that provides the sound hardware driver, and PulseAudio is the interface engine between Applications and ALSA. ([wiki](https://en.wikipedia.org/wiki/PulseAudio))\n",
    "\n",
    "可以安装 _**pavucontrol**_ 管理音频输入输出设备"
   ]
  },
  {
   "cell_type": "code",
   "execution_count": null,
   "metadata": {},
   "outputs": [],
   "source": []
  }
 ],
 "metadata": {
  "kernelspec": {
   "display_name": "Python(pyenv)",
   "language": "python",
   "name": "beatstracking"
  },
  "language_info": {
   "codemirror_mode": {
    "name": "ipython",
    "version": 3
   },
   "file_extension": ".py",
   "mimetype": "text/x-python",
   "name": "python",
   "nbconvert_exporter": "python",
   "pygments_lexer": "ipython3",
   "version": "3.8.7"
  }
 },
 "nbformat": 4,
 "nbformat_minor": 4
}
