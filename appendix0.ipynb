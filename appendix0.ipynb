{
 "cells": [
  {
   "cell_type": "markdown",
   "metadata": {},
   "source": [
    "# **附0：背景信息**\n",
    "\n",
    "## **关于音频**"
   ]
  },
  {
   "cell_type": "markdown",
   "metadata": {},
   "source": [
    "+ **音频文件格式**\n",
    "    声音被采集后，通常以 wav（Waveform Audio File）、mp3（MPEG-1 Audio Layer 3）或 WMA（Windows Media Audio) 格式存储。\n",
    "\n",
    "+ **采样率（sampling rate）**\n",
    "    每秒钟采集多少次振幅，频率越高，数据对真实声音的拟合越准确\n",
    "\n",
    "+ 对声音的表征可以在两个维度上进行：**时域**与**频域**"
   ]
  },
  {
   "cell_type": "code",
   "execution_count": null,
   "metadata": {},
   "outputs": [],
   "source": []
  }
 ],
 "metadata": {
  "kernelspec": {
   "display_name": "Python(pyenv)",
   "language": "python",
   "name": "beatstracking"
  },
  "language_info": {
   "codemirror_mode": {
    "name": "ipython",
    "version": 3
   },
   "file_extension": ".py",
   "mimetype": "text/x-python",
   "name": "python",
   "nbconvert_exporter": "python",
   "pygments_lexer": "ipython3",
   "version": "3.8.7"
  }
 },
 "nbformat": 4,
 "nbformat_minor": 4
}
