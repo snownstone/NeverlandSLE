{
 "cells": [
  {
   "cell_type": "markdown",
   "metadata": {},
   "source": [
    "# **附0：备注**\n",
    "\n",
    "## **关于音频**"
   ]
  },
  {
   "cell_type": "markdown",
   "metadata": {},
   "source": [
    "+ **音频文件格式**\n",
    "    声音被采集后，通常以 wav（Waveform Audio File）、mp3（MPEG-1 Audio Layer 3）或 WMA（Windows Media Audio) 格式存储。\n",
    "\n",
    "+ **采样率（sampling rate）**\n",
    "    每秒钟采集多少次振幅，频率越高，数据对真实声音的拟合越准确\n",
    "\n",
    "+ 对声音的表征可以在两个维度上进行：**时域**与**频域**\n",
    "\n",
    "关于采样分辨率（sample resolution）与量化（quantization），延伸阅读：\n",
    "\n",
    "+ [audio-handling-basics-how-to-process-audio-files-using-python-cli](https://hackernoon.com/audio-handling-basics-how-to-process-audio-files-using-python-cli-jo283u3y)\n",
    "\n",
    "+ [digital_communication_quantization](https://www.tutorialspoint.com/digital_communication/digital_communication_quantization.htm)\n",
    "\n",
    "+ [wiki-quantization](https://en.wikipedia.org/wiki/Quantization_(signal_processing))"
   ]
  },
  {
   "cell_type": "markdown",
   "metadata": {},
   "source": [
    "</br>\n",
    "\n",
    "## **实时 beat 分析**\n",
    "\n",
    "+ [Realtime_PyAudio_FFT](https://github.com/aiXander/Realtime_PyAudio_FFT)\n",
    "\n",
    "+ [sound-to-light-osc ](https://github.com/scheb/sound-to-light-osc)\n",
    "\n",
    "+ [audio-reactive-led-strip](https://github.com/scottlawsonbc/audio-reactive-led-strip)\n",
    "\n",
    "+ [Realtime FFT Audio Visualization with Python](https://swharden.com/blog/2013-05-09-realtime-fft-audio-visualization-with-python/)\n",
    "\n",
    "+ [Arduino & Python Soundlight Spectrum](https://julip.co/2012/05/arduino-python-soundlight-spectrum/)\n",
    "\n",
    "+ [Arduino & Python Soundlight](https://julip.co/2012/03/arduino-python-soundlight/)\n",
    "\n",
    "+ [Beat detection algorithm](https://www.parallelcube.com/2018/03/30/beat-detection-algorithm/) (UNREAL ENGINE)\n",
    "\n",
    "+ [BeatMapSynth: An automatic song mapper for Beat Saber](https://medium.com/swlh/beatmapsynth-an-automatic-song-mapper-for-beat-saber-aa9e59f093f8) [GitHub](https://github.com/wvsharber/BeatMapSynthesizer)\n",
    "\n",
    "+ [A Perceptually Meaningful Audio Visualizer](https://delu.medium.com/a-perceptually-meaningful-audio-visualizer-ee72051781bc)\n",
    "\n",
    "+ [Hacking an epic NHL goal celebration with a hue light show and real-time machine learning](https://blog.francoismaillet.com/epic-celebration/)\n",
    "\n",
    "+ MusicBeam (Processing)"
   ]
  },
  {
   "cell_type": "code",
   "execution_count": null,
   "metadata": {},
   "outputs": [],
   "source": []
  }
 ],
 "metadata": {
  "kernelspec": {
   "display_name": "Python(pyenv)",
   "language": "python",
   "name": "beatstracking"
  },
  "language_info": {
   "codemirror_mode": {
    "name": "ipython",
    "version": 3
   },
   "file_extension": ".py",
   "mimetype": "text/x-python",
   "name": "python",
   "nbconvert_exporter": "python",
   "pygments_lexer": "ipython3",
   "version": "3.8.7"
  }
 },
 "nbformat": 4,
 "nbformat_minor": 4
}
