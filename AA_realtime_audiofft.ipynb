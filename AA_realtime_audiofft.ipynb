{
 "cells": [
  {
   "cell_type": "markdown",
   "metadata": {},
   "source": [
    "# **绘制实时音频频谱（Real-time Audio Signal Frequency Spectrum）**\n",
    "\n",
    "**使用 Python 获取音频信号并做 FFT 分析，使用 CodeLab Adapter Linda 发送数据，使用 Scratch 实时画图**"
   ]
  },
  {
   "cell_type": "code",
   "execution_count": null,
   "metadata": {},
   "outputs": [],
   "source": [
    "import pyaudio\n",
    "import numpy as np\n",
    "import time\n",
    "\n",
    "from codelab_adapter_client import AdapterNode\n",
    "\n",
    "class MyNode(AdapterNode):\n",
    "    NODE_ID = \"linda/test\"\n",
    "\n",
    "    def __init__(self):\n",
    "        super().__init__()\n",
    "        \n",
    "node = MyNode()\n",
    "node.receive_loop_as_thread()\n",
    "\n",
    "\n",
    "\n",
    "time.sleep(0.1)\n",
    "\n",
    "buff_size = 8820                    \n",
    "wanted_num_of_bins = 12              \n",
    "fs = 44100\n",
    "pa = pyaudio.PyAudio()\n",
    "stream = pa.open(format=pyaudio.paInt16, channels=1, rate=fs, input=True, frames_per_buffer=int(buff_size))\n",
    "\n",
    "\n",
    "end_index = []\n",
    "for i in np.arange(12):    \n",
    "    end_index.append(int((buff_size/2)/2**i))\n",
    "end_index.reverse()\n",
    "\n",
    "    \n",
    "start_index = [0]\n",
    "for i in end_index[:-1]:\n",
    "    start_index.append(i+1)        \n",
    "\n",
    "#n=0\n",
    "X_ref = 2520\n",
    "while True:\n",
    "\n",
    "    block = stream.read(int(buff_size))\n",
    "    data = np.fromstring(block, dtype=np.int16)\n",
    "\n",
    "    x = np.array(data)/(2**15)\n",
    "    seg_len = len(x)\n",
    "   \n",
    "    X = np.abs(np.fft.fft(x))[0:int(seg_len/2)]\n",
    "    \n",
    "    X2 = []\n",
    "    for i in np.arange(12):\n",
    "        XX = np.mean(X[start_index[i]:end_index[i]])       \n",
    "        XXdB = 20*np.log10(XX/X_ref)\n",
    "        X2.append(XXdB)\n",
    "        #X2.append(XX)\n",
    "        i=i+1\n",
    "    \n",
    "    outlist = ['X2_12',X2]\n",
    "    \n",
    "    node.linda_out(outlist)\n",
    "    #print(X2)\n",
    "    \n",
    "\n",
    "    # n = n + 1\n",
    "\n",
    "\n"
   ]
  },
  {
   "cell_type": "code",
   "execution_count": 55,
   "metadata": {},
   "outputs": [
    {
     "data": {
      "text/plain": [
       "16.385103842181888"
      ]
     },
     "execution_count": 55,
     "metadata": {},
     "output_type": "execute_result"
    }
   ],
   "source": [
    "X[3]"
   ]
  },
  {
   "cell_type": "code",
   "execution_count": null,
   "metadata": {},
   "outputs": [],
   "source": [
    "data"
   ]
  },
  {
   "cell_type": "code",
   "execution_count": null,
   "metadata": {},
   "outputs": [],
   "source": [
    "20*np.log10(1000/2520)"
   ]
  },
  {
   "cell_type": "code",
   "execution_count": null,
   "metadata": {},
   "outputs": [],
   "source": [
    "abs(20*np.log10(140/180))"
   ]
  },
  {
   "cell_type": "code",
   "execution_count": null,
   "metadata": {},
   "outputs": [],
   "source": [
    "np.max(Xmax_rec)"
   ]
  },
  {
   "cell_type": "code",
   "execution_count": null,
   "metadata": {},
   "outputs": [],
   "source": [
    "np.max(Xmax_rec)"
   ]
  },
  {
   "cell_type": "code",
   "execution_count": null,
   "metadata": {},
   "outputs": [],
   "source": [
    "np.max(Xmax_rec)"
   ]
  },
  {
   "cell_type": "code",
   "execution_count": null,
   "metadata": {},
   "outputs": [],
   "source": [
    "XXlog"
   ]
  },
  {
   "cell_type": "code",
   "execution_count": null,
   "metadata": {},
   "outputs": [],
   "source": [
    "X(dtype = np.int16)"
   ]
  },
  {
   "cell_type": "code",
   "execution_count": null,
   "metadata": {},
   "outputs": [],
   "source": [
    "int(1e-300)"
   ]
  },
  {
   "cell_type": "code",
   "execution_count": null,
   "metadata": {},
   "outputs": [],
   "source": []
  }
 ],
 "metadata": {
  "kernelspec": {
   "display_name": "Python(pyenv)",
   "language": "python",
   "name": "beatstracking"
  },
  "language_info": {
   "codemirror_mode": {
    "name": "ipython",
    "version": 3
   },
   "file_extension": ".py",
   "mimetype": "text/x-python",
   "name": "python",
   "nbconvert_exporter": "python",
   "pygments_lexer": "ipython3",
   "version": "3.8.7"
  }
 },
 "nbformat": 4,
 "nbformat_minor": 4
}
