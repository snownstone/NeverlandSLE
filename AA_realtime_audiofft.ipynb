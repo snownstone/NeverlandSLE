{
 "cells": [
  {
   "cell_type": "markdown",
   "metadata": {},
   "source": [
    "# **绘制实时音频频谱（Real-time Audio Signal Frequency Spectrum）**\n",
    "\n",
    "**使用 Python 获取音频信号并做 FFT 分析，使用 CodeLab Adapter Linda 发送数据，使用 Scratch 实时画图**"
   ]
  },
  {
   "cell_type": "code",
   "execution_count": null,
   "metadata": {},
   "outputs": [],
   "source": [
    "import pyaudio\n",
    "import numpy as np\n",
    "import time\n",
    "\n",
    "# 通过 CodeLab Adapter Linda 将 python 处理后的音频数据发送给 Scratch 画图\n",
    "from codelab_adapter_client import AdapterNode\n",
    "class MyNode(AdapterNode):\n",
    "    NODE_ID = \"linda/test\"\n",
    "\n",
    "    def __init__(self):\n",
    "        super().__init__()\n",
    "        \n",
    "node = MyNode()\n",
    "node.receive_loop_as_thread()\n",
    "\n",
    "\n",
    "buff_size = 8820                    \n",
    "wanted_num_of_bins = 12              \n",
    "fs = 44100\n",
    "pa = pyaudio.PyAudio()\n",
    "stream = pa.open(format=pyaudio.paInt16, channels=1, rate=fs, input=True, frames_per_buffer=int(buff_size))\n",
    "\n",
    "\n",
    "end_index = []\n",
    "for i in np.arange(12):    \n",
    "    end_index.append(int((buff_size/2)/2**i)-1)\n",
    "end_index.reverse()\n",
    "\n",
    "    \n",
    "start_index = [0]\n",
    "for i in end_index[:-1]:\n",
    "    start_index.append(i+1)        \n",
    "\n",
    "#n=0\n",
    "\n",
    "while True:\n",
    "\n",
    "    block = stream.read(int(buff_size))\n",
    "    data = np.fromstring(block, dtype=np.int16)\n",
    "\n",
    "    x = np.array(data)/(2**15)\n",
    "    seg_len = len(x)\n",
    "\n",
    "    \n",
    "    X = np.abs(np.fft.fft(x))[0:int(seg_len/2)]\n",
    "\n",
    "\n",
    "    X2 = []\n",
    "    for i in np.arange(12):\n",
    "        XX = np.mean(X[start_index[i]:end_index[i]])        \n",
    "        X2.append(XX)\n",
    "        i=i+1\n",
    "    \n",
    "    outlist = ['X2_12',X2]\n",
    "    \n",
    "    node.linda_out(outlist)\n",
    "\n",
    "    # n = n + 1\n",
    "\n",
    "\n"
   ]
  },
  {
   "cell_type": "markdown",
   "metadata": {},
   "source": [
    "\n",
    "<br>\n",
    "\n",
    "## **参考：**\n",
    "\n",
    "[Audio Handling Basics: Process Audio Files In Command-Line or Python](https://hackernoon.com/audio-handling-basics-how-to-process-audio-files-using-python-cli-jo283u3y)\n",
    "\n",
    "[Frequency spectrum of sound using Pyaudio, NumPy, and Matplotlib](https://blog.yjl.im/2012/11/frequency-spectrum-of-sound-using.html)\n",
    "\n",
    "[Realtime FFT Audio Visualization with Python](https://swharden.com/blog/2013-05-09-realtime-fft-audio-visualization-with-python/)\n",
    "\n",
    "[Recording Stereo Audio on a Raspberry Pi](https://makersportal.com/blog/recording-stereo-audio-on-a-raspberry-pi)"
   ]
  },
  {
   "cell_type": "code",
   "execution_count": null,
   "metadata": {},
   "outputs": [],
   "source": []
  }
 ],
 "metadata": {
  "kernelspec": {
   "display_name": "Python(pyenv)",
   "language": "python",
   "name": "beatstracking"
  },
  "language_info": {
   "codemirror_mode": {
    "name": "ipython",
    "version": 3
   },
   "file_extension": ".py",
   "mimetype": "text/x-python",
   "name": "python",
   "nbconvert_exporter": "python",
   "pygments_lexer": "ipython3",
   "version": "3.8.7"
  }
 },
 "nbformat": 4,
 "nbformat_minor": 4
}
