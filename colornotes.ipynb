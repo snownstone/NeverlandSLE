{
 "cells": [
  {
   "cell_type": "markdown",
   "metadata": {},
   "source": [
    "# **色彩笔记**"
   ]
  },
  {
   "cell_type": "markdown",
   "metadata": {},
   "source": [
    "## **文章**\n",
    "\n",
    "<img src=\"./img/bluemarble.jpeg\" width=30%, height=30%>\n",
    "\n",
    "[Subtleties of Color](https://earthobservatory.nasa.gov/blogs/elegantfigures/2013/08/05/subtleties-of-color-part-1-of-6/)，这是一系列讨论数据可视化中颜色选用的心得的文章，作者就是上面这幅图（也是我手机壁纸）的作者 Robert Simmon，人称 Mr. Blue Marble。\n",
    "\n",
    "[How To Avoid Equidistant HSV Colors ](https://www.vis4.net/blog/2011/12/avoid-equidistant-hsv-colors/) \n",
    "[chroma.js](https://github.com/gka/chroma.js) 的作者\n"
   ]
  },
  {
   "cell_type": "markdown",
   "metadata": {},
   "source": [
    "## **收藏**\n",
    "\n",
    "### **网站**\n",
    "\n",
    "+ [THERESA-MARIE RHYNE’S VIEWPOINT(We present here my journey in the fields of visualization and digital media production. )](http://theresamarierhyne.com/Theresa-Marie_Rhynes_Viewpoint/My_Book_on_Color.html)\n",
    "\n",
    "+ [Shade Relief](http://www.shadedrelief.com/index.html) (Maps)\n",
    "\n",
    "\n",
    "### **书**\n",
    "\n",
    "+ [Color Experience(with pdf)](https://www.handprint.com/CE/book.html) by Bruce MacEvoy\n",
    "    作者竟然是 Jan Randall 的丈夫；画水彩，做了网上最全[指南](https://www.handprint.com/HP/WCL/wintro.html)；还是心理学博士。\n",
    "\n",
    "+ Information Visualization: Perception for Design (Interactive Technologies) \n",
    "\n",
    "+ Envisioning Information\n",
    "\n",
    "+ The Elements of Color: A Treatise on the Color System of Johannes Itten Based on His Book the Art of Color\n",
    "\n",
    "+ Interaction of Color: Revised and Expanded Edition\n",
    "\n",
    "+ Cartographic Relief Presentation (Esri Press Classics) "
   ]
  },
  {
   "cell_type": "code",
   "execution_count": null,
   "metadata": {},
   "outputs": [],
   "source": []
  }
 ],
 "metadata": {
  "kernelspec": {
   "display_name": "Python(pyenv)",
   "language": "python",
   "name": "beatstracking"
  },
  "language_info": {
   "codemirror_mode": {
    "name": "ipython",
    "version": 3
   },
   "file_extension": ".py",
   "mimetype": "text/x-python",
   "name": "python",
   "nbconvert_exporter": "python",
   "pygments_lexer": "ipython3",
   "version": "3.8.7"
  }
 },
 "nbformat": 4,
 "nbformat_minor": 4
}
